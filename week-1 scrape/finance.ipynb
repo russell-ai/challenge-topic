{
 "cells": [
  {
   "attachments": {},
   "cell_type": "markdown",
   "metadata": {},
   "source": [
    "# First Week -- Data Scrape"
   ]
  },
  {
   "cell_type": "code",
   "execution_count": 1,
   "metadata": {},
   "outputs": [],
   "source": [
    "# import scrape libraries\n",
    "import requests\n",
    "from bs4 import BeautifulSoup\n",
    "import pandas as pd\n",
    "import time, random\n"
   ]
  },
  {
   "cell_type": "code",
   "execution_count": 2,
   "metadata": {},
   "outputs": [],
   "source": [
    "url = \"https://en.wikipedia.org/wiki/Apple_Inc.\""
   ]
  },
  {
   "cell_type": "code",
   "execution_count": 3,
   "metadata": {},
   "outputs": [],
   "source": [
    "page = requests.get(url)"
   ]
  },
  {
   "cell_type": "code",
   "execution_count": 4,
   "metadata": {},
   "outputs": [
    {
     "data": {
      "text/plain": [
       "200"
      ]
     },
     "execution_count": 4,
     "metadata": {},
     "output_type": "execute_result"
    }
   ],
   "source": [
    "page.status_code"
   ]
  },
  {
   "cell_type": "code",
   "execution_count": null,
   "metadata": {},
   "outputs": [],
   "source": [
    "print(page.content)"
   ]
  },
  {
   "cell_type": "code",
   "execution_count": 6,
   "metadata": {},
   "outputs": [],
   "source": [
    "soup = BeautifulSoup(page.content, 'html.parser')"
   ]
  },
  {
   "cell_type": "code",
   "execution_count": null,
   "metadata": {},
   "outputs": [],
   "source": [
    "print(soup.prettify())"
   ]
  },
  {
   "cell_type": "code",
   "execution_count": 9,
   "metadata": {},
   "outputs": [],
   "source": [
    "body = soup.find(\"div\", {\"id\": \"bodyContent\"})"
   ]
  },
  {
   "cell_type": "code",
   "execution_count": null,
   "metadata": {},
   "outputs": [],
   "source": [
    "print(body)"
   ]
  },
  {
   "cell_type": "code",
   "execution_count": null,
   "metadata": {},
   "outputs": [],
   "source": [
    "body.find_all('p')"
   ]
  },
  {
   "cell_type": "code",
   "execution_count": null,
   "metadata": {},
   "outputs": [],
   "source": [
    "text = [p.text for p in body.find_all('p')]\n",
    "print(text)"
   ]
  },
  {
   "attachments": {},
   "cell_type": "markdown",
   "metadata": {},
   "source": [
    "### make all above  as a function"
   ]
  },
  {
   "cell_type": "code",
   "execution_count": 13,
   "metadata": {},
   "outputs": [],
   "source": [
    "def get_wiki_text(url):\n",
    "    try:\n",
    "        page = requests.get(url)\n",
    "        if page.status_code != 200:\n",
    "            return None\n",
    "        time.sleep(random.randint(2, 5))\n",
    "        soup = BeautifulSoup(page.content, 'html.parser')\n",
    "        body = soup.find(\"div\", {\"id\": \"bodyContent\"})\n",
    "        text = [p.text for p in body.find_all('p')]\n",
    "        return text\n",
    "    except Exception as e:\n",
    "        print(e)\n",
    "        return None"
   ]
  },
  {
   "cell_type": "code",
   "execution_count": null,
   "metadata": {},
   "outputs": [],
   "source": [
    "text = get_wiki_text(\"https://en.wikipedia.org/wiki/FedEx\")\n",
    "text"
   ]
  },
  {
   "cell_type": "code",
   "execution_count": null,
   "metadata": {},
   "outputs": [],
   "source": []
  },
  {
   "attachments": {},
   "cell_type": "markdown",
   "metadata": {},
   "source": [
    "# scrape all companies that has an article"
   ]
  },
  {
   "cell_type": "code",
   "execution_count": 17,
   "metadata": {},
   "outputs": [],
   "source": [
    "company = pd.read_csv(\"company.csv\")"
   ]
  },
  {
   "cell_type": "code",
   "execution_count": 18,
   "metadata": {},
   "outputs": [],
   "source": [
    "# base url\n",
    "url = \"https://en.wikipedia.org/wiki/\""
   ]
  },
  {
   "cell_type": "code",
   "execution_count": 19,
   "metadata": {},
   "outputs": [
    {
     "name": "stdout",
     "output_type": "stream",
     "text": [
      "Agilent Technologies Inc.\n"
     ]
    }
   ],
   "source": [
    "for name in company.name:\n",
    "    print(name)\n",
    "    break"
   ]
  },
  {
   "cell_type": "code",
   "execution_count": 23,
   "metadata": {},
   "outputs": [
    {
     "name": "stdout",
     "output_type": "stream",
     "text": [
      "SCRAPE SUCCESS : Agilent Technologies Inc.\n",
      "No article  First Trust DJ Internet Index Fund can only join an iterable\n",
      "No article  Aberdeen Emerging Markets Equity Income Fund Inc. can only join an iterable\n",
      "No article  Incyte Corporation can only join an iterable\n",
      "No article  XG Technology Inc can only join an iterable\n",
      "No article  Sorrento Therapeutics Inc. can only join an iterable\n",
      "No article  Cerecor Inc. can only join an iterable\n",
      "No article  HomeTown Bankshares Corporation can only join an iterable\n",
      "No article  Great Elm Capital Corp. can only join an iterable\n",
      "SCRAPE SUCCESS : American Airlines Group Inc.\n",
      "No article  Sienna Biopharmaceuticals Inc. can only join an iterable\n",
      "No article  TPG Specialty Lending Inc. can only join an iterable\n",
      "No article  Blackrock MuniYield Pennsylvania Quality Fund can only join an iterable\n",
      "No article  Atlantic American Corporation can only join an iterable\n",
      "No article  Applied Optoelectronics Inc. can only join an iterable\n",
      "No article  AAON Inc. can only join an iterable\n",
      "No article  The Hain Celestial Group Inc. can only join an iterable\n",
      "SCRAPE SUCCESS : Apple Inc.\n",
      "No article  American Assets Trust Inc. can only join an iterable\n",
      "No article  Almaden Minerals Ltd. can only join an iterable\n",
      "No article  Business First Bancshares Inc. can only join an iterable\n"
     ]
    },
    {
     "ename": "KeyboardInterrupt",
     "evalue": "",
     "output_type": "error",
     "traceback": [
      "\u001b[1;31m---------------------------------------------------------------------------\u001b[0m",
      "\u001b[1;31mKeyboardInterrupt\u001b[0m                         Traceback (most recent call last)",
      "\u001b[1;32mc:\\Users\\rcali\\Desktop\\finance\\finance.ipynb Cell 21\u001b[0m in \u001b[0;36m<cell line: 1>\u001b[1;34m()\u001b[0m\n\u001b[0;32m      <a href='vscode-notebook-cell:/c%3A/Users/rcali/Desktop/finance/finance.ipynb#X10sZmlsZQ%3D%3D?line=1'>2</a>\u001b[0m \u001b[39mtry\u001b[39;00m:\n\u001b[0;32m      <a href='vscode-notebook-cell:/c%3A/Users/rcali/Desktop/finance/finance.ipynb#X10sZmlsZQ%3D%3D?line=2'>3</a>\u001b[0m     url \u001b[39m=\u001b[39m \u001b[39m\"\u001b[39m\u001b[39mhttps://en.wikipedia.org/wiki/\u001b[39m\u001b[39m{}\u001b[39;00m\u001b[39m\"\u001b[39m\u001b[39m.\u001b[39mformat(name)\n\u001b[1;32m----> <a href='vscode-notebook-cell:/c%3A/Users/rcali/Desktop/finance/finance.ipynb#X10sZmlsZQ%3D%3D?line=3'>4</a>\u001b[0m     text \u001b[39m=\u001b[39m get_wiki_text(url)\n\u001b[0;32m      <a href='vscode-notebook-cell:/c%3A/Users/rcali/Desktop/finance/finance.ipynb#X10sZmlsZQ%3D%3D?line=4'>5</a>\u001b[0m     company\u001b[39m.\u001b[39mloc[company\u001b[39m.\u001b[39mname \u001b[39m==\u001b[39m name, \u001b[39m'\u001b[39m\u001b[39mtext\u001b[39m\u001b[39m'\u001b[39m] \u001b[39m=\u001b[39m \u001b[39m'\u001b[39m\u001b[39m \u001b[39m\u001b[39m'\u001b[39m\u001b[39m.\u001b[39mjoin(text)\n\u001b[0;32m      <a href='vscode-notebook-cell:/c%3A/Users/rcali/Desktop/finance/finance.ipynb#X10sZmlsZQ%3D%3D?line=5'>6</a>\u001b[0m     \u001b[39mprint\u001b[39m(\u001b[39m\"\u001b[39m\u001b[39mSCRAPE SUCCESS :\u001b[39m\u001b[39m\"\u001b[39m, name)\n",
      "\u001b[1;32mc:\\Users\\rcali\\Desktop\\finance\\finance.ipynb Cell 21\u001b[0m in \u001b[0;36mget_wiki_text\u001b[1;34m(url)\u001b[0m\n\u001b[0;32m      <a href='vscode-notebook-cell:/c%3A/Users/rcali/Desktop/finance/finance.ipynb#X10sZmlsZQ%3D%3D?line=1'>2</a>\u001b[0m \u001b[39mtry\u001b[39;00m:\n\u001b[0;32m      <a href='vscode-notebook-cell:/c%3A/Users/rcali/Desktop/finance/finance.ipynb#X10sZmlsZQ%3D%3D?line=2'>3</a>\u001b[0m     page \u001b[39m=\u001b[39m requests\u001b[39m.\u001b[39mget(url)\n\u001b[1;32m----> <a href='vscode-notebook-cell:/c%3A/Users/rcali/Desktop/finance/finance.ipynb#X10sZmlsZQ%3D%3D?line=3'>4</a>\u001b[0m     time\u001b[39m.\u001b[39;49msleep(random\u001b[39m.\u001b[39;49mrandint(\u001b[39m2\u001b[39;49m, \u001b[39m5\u001b[39;49m))\n\u001b[0;32m      <a href='vscode-notebook-cell:/c%3A/Users/rcali/Desktop/finance/finance.ipynb#X10sZmlsZQ%3D%3D?line=4'>5</a>\u001b[0m     \u001b[39mif\u001b[39;00m page\u001b[39m.\u001b[39mstatus_code \u001b[39m!=\u001b[39m \u001b[39m200\u001b[39m:\n\u001b[0;32m      <a href='vscode-notebook-cell:/c%3A/Users/rcali/Desktop/finance/finance.ipynb#X10sZmlsZQ%3D%3D?line=5'>6</a>\u001b[0m         \u001b[39mreturn\u001b[39;00m \u001b[39mNone\u001b[39;00m\n",
      "\u001b[1;31mKeyboardInterrupt\u001b[0m: "
     ]
    }
   ],
   "source": [
    "for name in company.name:\n",
    "    try:\n",
    "        url = \"https://en.wikipedia.org/wiki/{}\".format(name)\n",
    "        text = get_wiki_text(url)\n",
    "        company.loc[company.name == name, 'text'] = ' '.join(text)\n",
    "        print(\"SCRAPE SUCCESS :\", name)\n",
    "    except Exception as e:\n",
    "        print(\"No article \", name, e)"
   ]
  },
  {
   "cell_type": "code",
   "execution_count": null,
   "metadata": {},
   "outputs": [],
   "source": []
  },
  {
   "attachments": {},
   "cell_type": "markdown",
   "metadata": {},
   "source": [
    "# altarnate way"
   ]
  },
  {
   "cell_type": "code",
   "execution_count": 15,
   "metadata": {},
   "outputs": [],
   "source": [
    "df = pd.read_html(\"https://en.wikipedia.org/wiki/List_of_S%26P_500_companies\")[0]"
   ]
  },
  {
   "cell_type": "code",
   "execution_count": 16,
   "metadata": {},
   "outputs": [
    {
     "data": {
      "text/html": [
       "<div>\n",
       "<style scoped>\n",
       "    .dataframe tbody tr th:only-of-type {\n",
       "        vertical-align: middle;\n",
       "    }\n",
       "\n",
       "    .dataframe tbody tr th {\n",
       "        vertical-align: top;\n",
       "    }\n",
       "\n",
       "    .dataframe thead th {\n",
       "        text-align: right;\n",
       "    }\n",
       "</style>\n",
       "<table border=\"1\" class=\"dataframe\">\n",
       "  <thead>\n",
       "    <tr style=\"text-align: right;\">\n",
       "      <th></th>\n",
       "      <th>Symbol</th>\n",
       "      <th>Security</th>\n",
       "      <th>GICS Sector</th>\n",
       "      <th>GICS Sub-Industry</th>\n",
       "      <th>Headquarters Location</th>\n",
       "      <th>Date added</th>\n",
       "      <th>CIK</th>\n",
       "      <th>Founded</th>\n",
       "    </tr>\n",
       "  </thead>\n",
       "  <tbody>\n",
       "    <tr>\n",
       "      <th>0</th>\n",
       "      <td>MMM</td>\n",
       "      <td>3M</td>\n",
       "      <td>Industrials</td>\n",
       "      <td>Industrial Conglomerates</td>\n",
       "      <td>Saint Paul, Minnesota</td>\n",
       "      <td>1957-03-04</td>\n",
       "      <td>66740</td>\n",
       "      <td>1902</td>\n",
       "    </tr>\n",
       "    <tr>\n",
       "      <th>1</th>\n",
       "      <td>AOS</td>\n",
       "      <td>A. O. Smith</td>\n",
       "      <td>Industrials</td>\n",
       "      <td>Building Products</td>\n",
       "      <td>Milwaukee, Wisconsin</td>\n",
       "      <td>2017-07-26</td>\n",
       "      <td>91142</td>\n",
       "      <td>1916</td>\n",
       "    </tr>\n",
       "    <tr>\n",
       "      <th>2</th>\n",
       "      <td>ABT</td>\n",
       "      <td>Abbott</td>\n",
       "      <td>Health Care</td>\n",
       "      <td>Health Care Equipment</td>\n",
       "      <td>North Chicago, Illinois</td>\n",
       "      <td>1957-03-04</td>\n",
       "      <td>1800</td>\n",
       "      <td>1888</td>\n",
       "    </tr>\n",
       "    <tr>\n",
       "      <th>3</th>\n",
       "      <td>ABBV</td>\n",
       "      <td>AbbVie</td>\n",
       "      <td>Health Care</td>\n",
       "      <td>Pharmaceuticals</td>\n",
       "      <td>North Chicago, Illinois</td>\n",
       "      <td>2012-12-31</td>\n",
       "      <td>1551152</td>\n",
       "      <td>2013 (1888)</td>\n",
       "    </tr>\n",
       "    <tr>\n",
       "      <th>4</th>\n",
       "      <td>ACN</td>\n",
       "      <td>Accenture</td>\n",
       "      <td>Information Technology</td>\n",
       "      <td>IT Consulting &amp; Other Services</td>\n",
       "      <td>Dublin, Ireland</td>\n",
       "      <td>2011-07-06</td>\n",
       "      <td>1467373</td>\n",
       "      <td>1989</td>\n",
       "    </tr>\n",
       "    <tr>\n",
       "      <th>...</th>\n",
       "      <td>...</td>\n",
       "      <td>...</td>\n",
       "      <td>...</td>\n",
       "      <td>...</td>\n",
       "      <td>...</td>\n",
       "      <td>...</td>\n",
       "      <td>...</td>\n",
       "      <td>...</td>\n",
       "    </tr>\n",
       "    <tr>\n",
       "      <th>498</th>\n",
       "      <td>YUM</td>\n",
       "      <td>Yum! Brands</td>\n",
       "      <td>Consumer Discretionary</td>\n",
       "      <td>Restaurants</td>\n",
       "      <td>Louisville, Kentucky</td>\n",
       "      <td>1997-10-06</td>\n",
       "      <td>1041061</td>\n",
       "      <td>1997</td>\n",
       "    </tr>\n",
       "    <tr>\n",
       "      <th>499</th>\n",
       "      <td>ZBRA</td>\n",
       "      <td>Zebra Technologies</td>\n",
       "      <td>Information Technology</td>\n",
       "      <td>Electronic Equipment &amp; Instruments</td>\n",
       "      <td>Lincolnshire, Illinois</td>\n",
       "      <td>2019-12-23</td>\n",
       "      <td>877212</td>\n",
       "      <td>1969</td>\n",
       "    </tr>\n",
       "    <tr>\n",
       "      <th>500</th>\n",
       "      <td>ZBH</td>\n",
       "      <td>Zimmer Biomet</td>\n",
       "      <td>Health Care</td>\n",
       "      <td>Health Care Equipment</td>\n",
       "      <td>Warsaw, Indiana</td>\n",
       "      <td>2001-08-07</td>\n",
       "      <td>1136869</td>\n",
       "      <td>1927</td>\n",
       "    </tr>\n",
       "    <tr>\n",
       "      <th>501</th>\n",
       "      <td>ZION</td>\n",
       "      <td>Zions Bancorporation</td>\n",
       "      <td>Financials</td>\n",
       "      <td>Regional Banks</td>\n",
       "      <td>Salt Lake City, Utah</td>\n",
       "      <td>2001-06-22</td>\n",
       "      <td>109380</td>\n",
       "      <td>1873</td>\n",
       "    </tr>\n",
       "    <tr>\n",
       "      <th>502</th>\n",
       "      <td>ZTS</td>\n",
       "      <td>Zoetis</td>\n",
       "      <td>Health Care</td>\n",
       "      <td>Pharmaceuticals</td>\n",
       "      <td>Parsippany, New Jersey</td>\n",
       "      <td>2013-06-21</td>\n",
       "      <td>1555280</td>\n",
       "      <td>1952</td>\n",
       "    </tr>\n",
       "  </tbody>\n",
       "</table>\n",
       "<p>503 rows × 8 columns</p>\n",
       "</div>"
      ],
      "text/plain": [
       "    Symbol              Security             GICS Sector  \\\n",
       "0      MMM                    3M             Industrials   \n",
       "1      AOS           A. O. Smith             Industrials   \n",
       "2      ABT                Abbott             Health Care   \n",
       "3     ABBV                AbbVie             Health Care   \n",
       "4      ACN             Accenture  Information Technology   \n",
       "..     ...                   ...                     ...   \n",
       "498    YUM           Yum! Brands  Consumer Discretionary   \n",
       "499   ZBRA    Zebra Technologies  Information Technology   \n",
       "500    ZBH         Zimmer Biomet             Health Care   \n",
       "501   ZION  Zions Bancorporation              Financials   \n",
       "502    ZTS                Zoetis             Health Care   \n",
       "\n",
       "                      GICS Sub-Industry    Headquarters Location  Date added  \\\n",
       "0              Industrial Conglomerates    Saint Paul, Minnesota  1957-03-04   \n",
       "1                     Building Products     Milwaukee, Wisconsin  2017-07-26   \n",
       "2                 Health Care Equipment  North Chicago, Illinois  1957-03-04   \n",
       "3                       Pharmaceuticals  North Chicago, Illinois  2012-12-31   \n",
       "4        IT Consulting & Other Services          Dublin, Ireland  2011-07-06   \n",
       "..                                  ...                      ...         ...   \n",
       "498                         Restaurants     Louisville, Kentucky  1997-10-06   \n",
       "499  Electronic Equipment & Instruments   Lincolnshire, Illinois  2019-12-23   \n",
       "500               Health Care Equipment          Warsaw, Indiana  2001-08-07   \n",
       "501                      Regional Banks     Salt Lake City, Utah  2001-06-22   \n",
       "502                     Pharmaceuticals   Parsippany, New Jersey  2013-06-21   \n",
       "\n",
       "         CIK      Founded  \n",
       "0      66740         1902  \n",
       "1      91142         1916  \n",
       "2       1800         1888  \n",
       "3    1551152  2013 (1888)  \n",
       "4    1467373         1989  \n",
       "..       ...          ...  \n",
       "498  1041061         1997  \n",
       "499   877212         1969  \n",
       "500  1136869         1927  \n",
       "501   109380         1873  \n",
       "502  1555280         1952  \n",
       "\n",
       "[503 rows x 8 columns]"
      ]
     },
     "execution_count": 16,
     "metadata": {},
     "output_type": "execute_result"
    }
   ],
   "source": [
    "df"
   ]
  },
  {
   "cell_type": "code",
   "execution_count": 17,
   "metadata": {},
   "outputs": [],
   "source": [
    "sp_df = df[['Symbol', 'Security']]"
   ]
  },
  {
   "cell_type": "code",
   "execution_count": 18,
   "metadata": {},
   "outputs": [
    {
     "data": {
      "text/html": [
       "<div>\n",
       "<style scoped>\n",
       "    .dataframe tbody tr th:only-of-type {\n",
       "        vertical-align: middle;\n",
       "    }\n",
       "\n",
       "    .dataframe tbody tr th {\n",
       "        vertical-align: top;\n",
       "    }\n",
       "\n",
       "    .dataframe thead th {\n",
       "        text-align: right;\n",
       "    }\n",
       "</style>\n",
       "<table border=\"1\" class=\"dataframe\">\n",
       "  <thead>\n",
       "    <tr style=\"text-align: right;\">\n",
       "      <th></th>\n",
       "      <th>Symbol</th>\n",
       "      <th>Security</th>\n",
       "    </tr>\n",
       "  </thead>\n",
       "  <tbody>\n",
       "    <tr>\n",
       "      <th>0</th>\n",
       "      <td>MMM</td>\n",
       "      <td>3M</td>\n",
       "    </tr>\n",
       "    <tr>\n",
       "      <th>1</th>\n",
       "      <td>AOS</td>\n",
       "      <td>A. O. Smith</td>\n",
       "    </tr>\n",
       "    <tr>\n",
       "      <th>2</th>\n",
       "      <td>ABT</td>\n",
       "      <td>Abbott</td>\n",
       "    </tr>\n",
       "    <tr>\n",
       "      <th>3</th>\n",
       "      <td>ABBV</td>\n",
       "      <td>AbbVie</td>\n",
       "    </tr>\n",
       "    <tr>\n",
       "      <th>4</th>\n",
       "      <td>ACN</td>\n",
       "      <td>Accenture</td>\n",
       "    </tr>\n",
       "    <tr>\n",
       "      <th>...</th>\n",
       "      <td>...</td>\n",
       "      <td>...</td>\n",
       "    </tr>\n",
       "    <tr>\n",
       "      <th>498</th>\n",
       "      <td>YUM</td>\n",
       "      <td>Yum! Brands</td>\n",
       "    </tr>\n",
       "    <tr>\n",
       "      <th>499</th>\n",
       "      <td>ZBRA</td>\n",
       "      <td>Zebra Technologies</td>\n",
       "    </tr>\n",
       "    <tr>\n",
       "      <th>500</th>\n",
       "      <td>ZBH</td>\n",
       "      <td>Zimmer Biomet</td>\n",
       "    </tr>\n",
       "    <tr>\n",
       "      <th>501</th>\n",
       "      <td>ZION</td>\n",
       "      <td>Zions Bancorporation</td>\n",
       "    </tr>\n",
       "    <tr>\n",
       "      <th>502</th>\n",
       "      <td>ZTS</td>\n",
       "      <td>Zoetis</td>\n",
       "    </tr>\n",
       "  </tbody>\n",
       "</table>\n",
       "<p>503 rows × 2 columns</p>\n",
       "</div>"
      ],
      "text/plain": [
       "    Symbol              Security\n",
       "0      MMM                    3M\n",
       "1      AOS           A. O. Smith\n",
       "2      ABT                Abbott\n",
       "3     ABBV                AbbVie\n",
       "4      ACN             Accenture\n",
       "..     ...                   ...\n",
       "498    YUM           Yum! Brands\n",
       "499   ZBRA    Zebra Technologies\n",
       "500    ZBH         Zimmer Biomet\n",
       "501   ZION  Zions Bancorporation\n",
       "502    ZTS                Zoetis\n",
       "\n",
       "[503 rows x 2 columns]"
      ]
     },
     "execution_count": 18,
     "metadata": {},
     "output_type": "execute_result"
    }
   ],
   "source": [
    "sp_df"
   ]
  },
  {
   "cell_type": "code",
   "execution_count": 19,
   "metadata": {},
   "outputs": [],
   "source": [
    "def get_wiki_text(url):\n",
    "    try:\n",
    "        page = requests.get(url)\n",
    "        if page.status_code != 200:\n",
    "            return None\n",
    "        time.sleep(random.randint(2, 5))\n",
    "        soup = BeautifulSoup(page.content, 'html.parser')\n",
    "        body = soup.find(\"div\", {\"id\": \"bodyContent\"})\n",
    "        text = [p.text for p in body.find_all('p')]\n",
    "        return text\n",
    "    except Exception as e:\n",
    "        print(e)\n",
    "        return None"
   ]
  },
  {
   "cell_type": "code",
   "execution_count": 21,
   "metadata": {},
   "outputs": [],
   "source": [
    "base_url = \"https://en.wikipedia.org/wiki/\""
   ]
  },
  {
   "cell_type": "code",
   "execution_count": 23,
   "metadata": {},
   "outputs": [
    {
     "data": {
      "text/plain": [
       "'text list'"
      ]
     },
     "execution_count": 23,
     "metadata": {},
     "output_type": "execute_result"
    }
   ],
   "source": [
    "\" \".join([\"text list\"])"
   ]
  },
  {
   "cell_type": "code",
   "execution_count": 24,
   "metadata": {},
   "outputs": [
    {
     "name": "stderr",
     "output_type": "stream",
     "text": [
      "C:\\Users\\rcali\\AppData\\Local\\Temp\\ipykernel_1660\\625786558.py:5: SettingWithCopyWarning: \n",
      "A value is trying to be set on a copy of a slice from a DataFrame.\n",
      "Try using .loc[row_indexer,col_indexer] = value instead\n",
      "\n",
      "See the caveats in the documentation: https://pandas.pydata.org/pandas-docs/stable/user_guide/indexing.html#returning-a-view-versus-a-copy\n",
      "  sp_df.loc[sp_df.Security == name, 'text'] = \" \".join(text)\n"
     ]
    },
    {
     "name": "stdout",
     "output_type": "stream",
     "text": [
      "SUCCESS:  3M\n",
      "SUCCESS:  A. O. Smith\n",
      "SUCCESS:  Abbott\n",
      "SUCCESS:  AbbVie\n",
      "SUCCESS:  Accenture\n",
      "SUCCESS:  Activision Blizzard\n",
      "SUCCESS:  ADM\n",
      "SUCCESS:  Adobe Inc.\n",
      "SUCCESS:  ADP\n",
      "SUCCESS:  Advance Auto Parts\n",
      "SUCCESS:  AES Corporation\n",
      "SUCCESS:  Aflac\n",
      "SUCCESS:  Agilent Technologies\n",
      "SUCCESS:  Air Products and Chemicals\n",
      "SUCCESS:  Akamai\n",
      "SUCCESS:  Alaska Air Group\n",
      "SUCCESS:  Albemarle Corporation\n",
      "SUCCESS:  Alexandria Real Estate Equities\n",
      "SUCCESS:  Align Technology\n",
      "SUCCESS:  Allegion\n",
      "SUCCESS:  Alliant Energy\n",
      "SUCCESS:  Allstate\n",
      "NOT SCRAPED : Alphabet Inc. (Class A)\n",
      "can only join an iterable\n",
      "NOT SCRAPED : Alphabet Inc. (Class C)\n",
      "can only join an iterable\n",
      "SUCCESS:  Altria\n",
      "SUCCESS:  Amazon\n",
      "SUCCESS:  Amcor\n",
      "SUCCESS:  AMD\n",
      "SUCCESS:  Ameren\n",
      "SUCCESS:  American Airlines Group\n",
      "SUCCESS:  American Electric Power\n",
      "SUCCESS:  American Express\n",
      "SUCCESS:  American International Group\n",
      "SUCCESS:  American Tower\n",
      "SUCCESS:  American Water Works\n",
      "SUCCESS:  Ameriprise Financial\n",
      "SUCCESS:  AmerisourceBergen\n",
      "SUCCESS:  Ametek\n",
      "SUCCESS:  Amgen\n",
      "SUCCESS:  Amphenol\n",
      "SUCCESS:  Analog Devices\n",
      "SUCCESS:  Ansys\n",
      "SUCCESS:  Aon\n",
      "SUCCESS:  APA Corporation\n",
      "SUCCESS:  Apple Inc.\n",
      "SUCCESS:  Applied Materials\n",
      "SUCCESS:  Aptiv\n",
      "SUCCESS:  Arch Capital Group\n",
      "SUCCESS:  Arista Networks\n",
      "SUCCESS:  Arthur J. Gallagher & Co.\n",
      "SUCCESS:  Assurant\n",
      "SUCCESS:  AT&T\n",
      "SUCCESS:  Atmos Energy\n",
      "SUCCESS:  Autodesk\n",
      "SUCCESS:  AutoZone\n",
      "SUCCESS:  AvalonBay Communities\n",
      "SUCCESS:  Avery Dennison\n",
      "SUCCESS:  Baker Hughes\n",
      "SUCCESS:  Ball Corporation\n",
      "SUCCESS:  Bank of America\n",
      "SUCCESS:  Bath & Body Works, Inc.\n",
      "SUCCESS:  Baxter International\n",
      "SUCCESS:  Becton Dickinson\n",
      "SUCCESS:  Berkley\n",
      "SUCCESS:  Berkshire Hathaway\n",
      "SUCCESS:  Best Buy\n",
      "SUCCESS:  Bio-Rad\n",
      "SUCCESS:  Bio-Techne\n",
      "SUCCESS:  Biogen\n",
      "SUCCESS:  BlackRock\n",
      "SUCCESS:  BNY Mellon\n",
      "SUCCESS:  Boeing\n",
      "SUCCESS:  Booking Holdings\n",
      "SUCCESS:  BorgWarner\n",
      "SUCCESS:  Boston Properties\n",
      "SUCCESS:  Boston Scientific\n",
      "SUCCESS:  Bristol Myers Squibb\n",
      "SUCCESS:  Broadcom Inc.\n",
      "SUCCESS:  Broadridge Financial Solutions\n"
     ]
    },
    {
     "ename": "KeyboardInterrupt",
     "evalue": "",
     "output_type": "error",
     "traceback": [
      "\u001b[1;31m---------------------------------------------------------------------------\u001b[0m",
      "\u001b[1;31mKeyboardInterrupt\u001b[0m                         Traceback (most recent call last)",
      "\u001b[1;32mc:\\Users\\rcali\\Desktop\\intern\\challenge-one\\week-1 scrape\\finance.ipynb Cell 23\u001b[0m in \u001b[0;36m<cell line: 1>\u001b[1;34m()\u001b[0m\n\u001b[0;32m      <a href='vscode-notebook-cell:/c%3A/Users/rcali/Desktop/intern/challenge-one/week-1%20scrape/finance.ipynb#X32sZmlsZQ%3D%3D?line=1'>2</a>\u001b[0m \u001b[39mtry\u001b[39;00m:\n\u001b[0;32m      <a href='vscode-notebook-cell:/c%3A/Users/rcali/Desktop/intern/challenge-one/week-1%20scrape/finance.ipynb#X32sZmlsZQ%3D%3D?line=2'>3</a>\u001b[0m     url \u001b[39m=\u001b[39m base_url \u001b[39m+\u001b[39m name\n\u001b[1;32m----> <a href='vscode-notebook-cell:/c%3A/Users/rcali/Desktop/intern/challenge-one/week-1%20scrape/finance.ipynb#X32sZmlsZQ%3D%3D?line=3'>4</a>\u001b[0m     text \u001b[39m=\u001b[39m get_wiki_text(url)\n\u001b[0;32m      <a href='vscode-notebook-cell:/c%3A/Users/rcali/Desktop/intern/challenge-one/week-1%20scrape/finance.ipynb#X32sZmlsZQ%3D%3D?line=4'>5</a>\u001b[0m     sp_df\u001b[39m.\u001b[39mloc[sp_df\u001b[39m.\u001b[39mSecurity \u001b[39m==\u001b[39m name, \u001b[39m'\u001b[39m\u001b[39mtext\u001b[39m\u001b[39m'\u001b[39m] \u001b[39m=\u001b[39m \u001b[39m\"\u001b[39m\u001b[39m \u001b[39m\u001b[39m\"\u001b[39m\u001b[39m.\u001b[39mjoin(text)\n\u001b[0;32m      <a href='vscode-notebook-cell:/c%3A/Users/rcali/Desktop/intern/challenge-one/week-1%20scrape/finance.ipynb#X32sZmlsZQ%3D%3D?line=5'>6</a>\u001b[0m     \u001b[39mprint\u001b[39m(\u001b[39m\"\u001b[39m\u001b[39mSUCCESS: \u001b[39m\u001b[39m\"\u001b[39m, name)\n",
      "\u001b[1;32mc:\\Users\\rcali\\Desktop\\intern\\challenge-one\\week-1 scrape\\finance.ipynb Cell 23\u001b[0m in \u001b[0;36mget_wiki_text\u001b[1;34m(url)\u001b[0m\n\u001b[0;32m      <a href='vscode-notebook-cell:/c%3A/Users/rcali/Desktop/intern/challenge-one/week-1%20scrape/finance.ipynb#X32sZmlsZQ%3D%3D?line=3'>4</a>\u001b[0m \u001b[39mif\u001b[39;00m page\u001b[39m.\u001b[39mstatus_code \u001b[39m!=\u001b[39m \u001b[39m200\u001b[39m:\n\u001b[0;32m      <a href='vscode-notebook-cell:/c%3A/Users/rcali/Desktop/intern/challenge-one/week-1%20scrape/finance.ipynb#X32sZmlsZQ%3D%3D?line=4'>5</a>\u001b[0m     \u001b[39mreturn\u001b[39;00m \u001b[39mNone\u001b[39;00m\n\u001b[1;32m----> <a href='vscode-notebook-cell:/c%3A/Users/rcali/Desktop/intern/challenge-one/week-1%20scrape/finance.ipynb#X32sZmlsZQ%3D%3D?line=5'>6</a>\u001b[0m time\u001b[39m.\u001b[39;49msleep(random\u001b[39m.\u001b[39;49mrandint(\u001b[39m2\u001b[39;49m, \u001b[39m5\u001b[39;49m))\n\u001b[0;32m      <a href='vscode-notebook-cell:/c%3A/Users/rcali/Desktop/intern/challenge-one/week-1%20scrape/finance.ipynb#X32sZmlsZQ%3D%3D?line=6'>7</a>\u001b[0m soup \u001b[39m=\u001b[39m BeautifulSoup(page\u001b[39m.\u001b[39mcontent, \u001b[39m'\u001b[39m\u001b[39mhtml.parser\u001b[39m\u001b[39m'\u001b[39m)\n\u001b[0;32m      <a href='vscode-notebook-cell:/c%3A/Users/rcali/Desktop/intern/challenge-one/week-1%20scrape/finance.ipynb#X32sZmlsZQ%3D%3D?line=7'>8</a>\u001b[0m body \u001b[39m=\u001b[39m soup\u001b[39m.\u001b[39mfind(\u001b[39m\"\u001b[39m\u001b[39mdiv\u001b[39m\u001b[39m\"\u001b[39m, {\u001b[39m\"\u001b[39m\u001b[39mid\u001b[39m\u001b[39m\"\u001b[39m: \u001b[39m\"\u001b[39m\u001b[39mbodyContent\u001b[39m\u001b[39m\"\u001b[39m})\n",
      "\u001b[1;31mKeyboardInterrupt\u001b[0m: "
     ]
    }
   ],
   "source": [
    "for name in sp_df.Security:\n",
    "    try:\n",
    "        url = base_url + name\n",
    "        text = get_wiki_text(url)\n",
    "        sp_df.loc[sp_df.Security == name, 'text'] = \" \".join(text)\n",
    "        print(\"SUCCESS: \", name)\n",
    "    except Exception as e:\n",
    "        print(\"NOT SCRAPED :\", name)\n",
    "        print(e)"
   ]
  },
  {
   "cell_type": "code",
   "execution_count": 27,
   "metadata": {},
   "outputs": [
    {
     "data": {
      "text/plain": [
       "'\\n 3M (originally the Minnesota Mining and Manufacturing Company) is an American multinational conglomerate operating in the fields of industry, worker safety, U.S. health care, and consumer goods.[5] The company produces over 60,000 products under several brands,[6] including adhesives, abrasives, laminates, passive fire protection, personal protective equipment, window films, paint protection films, dental and orthodontic products, electrical and electronic connecting and insulating materials, medical products, car-care products,[7] electronic circuits, healthcare software and optical films.[8] It is based in Maplewood, a suburb of Saint Paul, Minnesota.[9]\\n 3M made $35.4 billion in total sales in 2021, and ranked number 102 in the Fortune 500 list of the largest United States corporations by total revenue.[10] As of 2021[update], the company had approximately 95,000 employees, and had operations in more than 70 countries.[11]\\n Five businessmen founded the Minnesota Mining and Manufacturing Company as a mining venture in Two Harbors, Minnesota, making their first sale on June 13, 1902.[1][12] The goal was to mine corundum, but this failed because the mine\\'s mineral holdings were anorthosite, which had no commercial value.[12] Co-founder John Dwan solicited funds in exchange for stock and Edgar Ober and Lucius Ordway took over the company in 1905.[12] The company moved to Duluth and began researching and producing sandpaper products.[12] William L. McKnight, later a key executive, joined the company in 1907, and A.\\xa0G. Bush joined in 1909.[12] 3M finally became financially stable in 1916 and was able to pay dividends.[12]\\n The company moved to St.\\xa0Paul in 1910, where it remained for 52 years before outgrowing the campus and moving to its current headquarters at 3M Center in Maplewood, Minnesota, in 1962.[13]\\n In 1947, 3M began producing perfluorooctanoic acid (PFOA) by electrochemical fluorination.[14]\\n In 1951, DuPont purchased PFOA from then-Minnesota Mining and Manufacturing Company for use in the manufacturing of teflon, a product that brought DuPont a billion-dollar-a-year profit by the 1990s.[15] DuPont referred to PFOA as C8.[16] The original formula for Scotchgard, a water repellent applied to fabrics, was discovered accidentally in 1952 by 3M chemists Patsy Sherman and Samuel Smith. Sales began in 1956, and in 1973 the two chemists received a patent for the formula.[17][18]\\n In the late 1950s, 3M produced the first asthma inhaler,[19] but the company did not enter the pharmaceutical industry until the mid-1960s with the acquisition of Riker Laboratories, moving it from California to Minnesota.[20] 3M retained the Riker Laboratories name for the subsidiary until at least 1985.[21] In the mid-1990s, 3M Pharmaceuticals, as the division came to be called, produced the first CFC-free asthma inhaler in response to adoption of the Montreal Protocol by the United States.[22][23] In the 1980s and 1990s, the company spent fifteen years developing a topical cream delivery technology which led in 1997 to health authority approval and marketing of a symptomatic treatment for genital warts, Aldara.[24][25] 3M divested its pharmaceutical unit through three deals in 2006, netting more than US$2 billion.[26][27] At the time, 3M Pharmaceuticals comprised about 20% of 3M\\'s health care business and employed just over a thousand people.[26]\\n By the 1970s, 3M developed a theatrical blood formula based on red colorfast microbeads suspended in a carrier liquid.[28] This stage blood was sold as Nextel Simulated Blood,[28][29] and was used during the production of the 1978 film Dawn of the Dead.[30] It has since been discontinued.[29]\\n 3M Mincom was involved in some of the first digital audio recordings of the late 1970s to see commercial release when a prototype machine was brought to the Sound 80 studios in Minneapolis. In 1979 3M introduced a digital audio recording system called \"3M Digital Audio Mastering System\".[31]\\n In 1980, the company acquired Comtal, a manufacturer of digital image processors.[32]\\n 3M launched \"Press \\'n Peel\" in stores in four cities in 1977, but the results were disappointing.[33][34] A year later 3M instead issued free samples directly to consumers in Boise, Idaho, with 95% of those who tried them indicating they would buy the product.[33] The product was sold as \"Post-its\" in 1979 when the rollout introduction began,[35] and was sold across the United States[35] from April 6, 1980.[36] The following year they were launched in Canada and Europe.[37]\\n On its 100th anniversary, 3M changed its legal name to \"3M Company\" on April 8, 2002.[38][39] On September 8, 2008, 3M announced an agreement to acquire Meguiar\\'s, a car-care products company that was family-owned for over a century.[40] In August 2010, 3M acquired Cogent Systems for $943 million[41] and on October 13, 2010, 3M completed acquisition of Arizant Inc.[42] In December 2011, 3M completed the acquisition of the Winterthur Technology Group, a bonded abrasives company.\\n As of 2012, 3M was one of the 30 companies included in the Dow Jones Industrial Average, added on August 9, 1976, and was 97 on the 2011 Fortune 500 list.[43] On January 3, 2012, it was announced that the Office and Consumer Products Division of Avery Dennison was being bought by 3M for $550 million.[44] The transaction was canceled by 3M in September 2012 amid antitrust concerns.[45]\\n In May 2013, 3M sold Scientific Anglers and Ross Reels to Orvis. Ross Reels had been acquired by 3M in 2010.[46]\\n In March 2017, 3M purchased Johnson Controls International Plc\\'s safety gear business, Scott Safety, for $2 billion.[47]\\n In 2017, 3M had net sales for the year of $31.657 billion, up from $30.109 billion the year before.[48] In 2018, it was reported that the company would pay $850 million to end the Minnesota water pollution case concerning perfluorochemicals.[49]\\n On May 25, 2018, Michael F. Roman was appointed CEO by the board of directors.[50] There are a few international subsidiaries such as 3M India, 3M Japan, and 3M Canada.[51]\\nOn December 19, 2018, 3M announced it had entered into a definitive agreement to acquire the technology business of M*Modal, for a total enterprise value of $1.0 billion.[52]\\n In October 2019, 3M purchased Acelity and its KCI subsidiaries for $6.7 billion, including assumption of debt and other adjustments.[53]\\n On May 1, 2020, 3M divested substantially all of its drug delivery business to an affiliate of Altaris Capital Partners, LLC., for approximately $650 million including a 17% interest in the new operating company, Kindeva Drug Delivery.[54]\\n In December 2021, 3M announced that it would merge its food-safety business with food testing and animal healthcare products maker Neogen.[55] The deal, with an enterprise value of about $5.3 billion,[55] closed in September 2022.[56]\\n In July 2022, the company announced it would spin off its healthcare assets to form a new, independent firm, likely completing the transaction in 2023.[57] 3M will retain an ownership stake of 19.9% in the new, publicly-traded health care company and gradually divest the holdings.[57][58]\\n In December 2022, the company announced it will stop producing and using the so-called \"forever chemicals,\" that have been commonly used in items such as food packaging, cellphones, non-stick pans, fire-fighting foams, clothing, etc. These chemicals are well known for their water-resistant and non-stick properties, but they are also dangerous pollutants that are linked with serious health problems, including ulcerative colitis and cancer.[59][60] The move comes as governments in the Netherlands and the United States consider actions against the chemicals and 3M.[61][62]\\n 3M produces approximately 60,000 products, as of 2019,[63] and has four business groups focused on safety and industrial, transportation and electronics, health care, and consumer products.[64] 3M obtained its first patent in 1924, and acquires approximately 3,000 new patents annually. The company surpassed the 100,000-patent threshold in 2014.[65]\\n 3M\\'s Pollution Prevention Pays (3P) program was established in 1975. The program initially focused on pollution reduction at the plant level and was expanded to promote recycling and reduce waste across all divisions in 1989. By the early 1990s, approximately 2,500 3P projects decreased the company\\'s total global pollutant generation by 50 percent and saved 3M $500–600 million by eliminating the production of waste requiring subsequent treatment.[67][68]\\n In 1983, the Oakdale Dump in Oakdale, Minnesota, was listed as an EPA Superfund site after significant groundwater and soil contamination by VOCs and heavy metals was uncovered.[69] The Oakdale Dump was a 3M dumping site utilized through the 1940s and 1950s.\\n During the 1990s and 2000s, 3M reduced releases of toxic pollutants by 99 percent and greenhouse gas emissions by 72 percent. The company earned the United States Environmental Protection Agency\\'s Energy Star Award each year the honor was presented, as of 2012.[70]\\n In 1999, the U.S. Environmental Protection Agency began investigating perfluorinated chemicals after receiving data on the global distribution and toxicity of perfluorooctanesulfonic acid (PFOS).[71] These materials are part of a broad group of perfluoroalkyl and polyfluoroalkyl substances often referred to as PFAS, each of which has different chemical properties.[72] 3M, the former primary producer of PFOS from the U.S., announced the phase-out of PFOS, perfluorooctanoic acid, and PFOS-related product production in May 2000.[73][74] Perfluorinated compounds produced by 3M have been used in non-stick cookware, stain-resistant fabrics, and other products.\\n The Cottage Grove facility manufactured PFAS from the 1940s to 2002.[75] In response to PFAS contamination of the Mississippi River and surrounding area, 3M stated the area will be \"cleaned through a combination of groundwater pump-out wells and soil sediment excavation\". The restoration plan was based on an analysis of the company property and surrounding lands.[76] The on-site water treatment facility that handled the plant\\'s post-production water was not capable of removing PFAS, which were released into the nearby Mississippi River.[75] The clean-up cost estimate, which included a granular activated carbon system to remove PFAS from the ground water was $50 to $56 million,[77] funded from a $147 million environmental reserve set aside in 2006.[78]\\n In 2008, 3M created the Renewable Energy Division within 3M\\'s Industrial and Transportation Business to focus on Energy Generation and Energy Management.[79][80]\\n In late 2010, the state of Minnesota sued 3M for $5 billion in punitive damages, claiming they released PFCs—classified a toxic chemical by the EPA—into local waterways.[81] A settlement for $850 million was reached in February 2018,[82][74][83] although in 2019, 3M, along with the Chemours Company and DuPont, appeared before lawmakers to deny responsibility, with company Senior VP of Corporate Affairs Denise Rutherford arguing that the chemicals pose no human health threats at current levels and have no victims.[84]\\n 3M\\'s Zwijndrecht (Belgium) factory caused PFOS pollution that may be contaminating agricultural products within a 15 kilometer radius of the plant which includes Antwerp.[85][86] The Flemish Government has paid 63 million euros for cleanup costs so far with 3M contributing 75,000 euros.[87] The Flemish Government issued measures advising against the consumption of, for example, home-grown eggs within a radius of 5 kilometers.[88]\\n 3M reported Total CO2e emissions (Direct + Indirect) for the twelve months ending December 31, 2020, at 5,280 Kt (-550 /-9.4% y-o-y)[89] and plans to reduce emissions 50% by 2030 from a 2019 base year.[90] The company also aims achieve carbon neutrality by 2050.[91]\\n The Combat Arms Earplugs, Version 2 (CAEv2), was developed by Aearo Technologies for U.S. military and civilian use. The CAEv2  was a double ended earplug that 3M claimed would offer users different levels of protection.[98] Between 2003 and 2015, these earplugs were standard issue to members of the U.S. military.[99] 3M acquired Aearo Technologies in 2008.[100]\\n In May 2016, Moldex-Metric, Inc., a 3M competitor, filed a whistleblower complaint against 3M under the False Claims Act. Moldex-Metric claimed that 3M made false claims to the U.S. government about the safety of its earplugs, and that it knew the earplugs had an inherently defective design.[101] In 2018, 3M agreed to pay $9.1 million to the U.S. government to resolve the allegations, without admitting liability.[102]\\n Since 2018, more than 140,000 former users of the earplugs (primarily U.S. military veterans) have filed suit against 3M claiming they suffer from hearing loss, tinnitus, and other damage as a consequence of the defective design.[103]\\n Internal emails showed that 3M officials boasted about charging $7.63 per piece for the earplugs which cost 85 cents to produce.  The company\\'s official response indicated that the cost to the government includes R&D costs.[104]\\n The N95 respirator mask was developed by 3M and approved in 1972.[105] Being able to filter viral particulates, its use was recommended during the COVID-19 pandemic but supply soon became short.[105] Much of the company\\'s supply had already been sold prior to the outbreak.[106]\\n The shortages led to the U.S. government asking 3M to stop exporting US-made N95 respirator masks to Canada and to Latin American countries,[107] and President Donald Trump invoked the Defense Production Act to require 3M to prioritize orders from the federal government.[108] The dispute was resolved when 3M agreed to import more respirators, mostly from its factories in China.[108]\\n 3M later struck a CA$70M deal with the federal government of Canada and the Ontario provincial government to produce N95 masks at their plant in Brockville, Ontario.[109]\\n 3M\\'s general offices, corporate research laboratories, and some division laboratories in the U.S. are in St. Paul, Minnesota.  In the United States, 3M operates 80 manufacturing facilities in 29 states, and 125 manufacturing and converting facilities in 37 countries outside the U.S. (in 2017).[110]\\n In March 2016, 3M completed a 400,000-square-foot (37,000\\xa0m2) research-and-development building that cost $150 million on its Maplewood campus. Seven hundred scientists from various divisions occupy the building.  They were previously scattered across the campus.  3M hopes concentrating its research and development in this manner will improve collaboration.  3M received $9.6 million in local tax increment financing and relief from state sales taxes in order to assist with development of the building.[111]\\n Selected factory detail information:\\n Board chairs have included: William L. McKnight (1949–1966),[138][139] Bert S. Cross (1966–1970),[140][141] Harry Heltzer (1970–1975),[142] Raymond H. Herzog (1975–1980),[143] Lewis W. Lehr (1980–1986), Allen F. Jacobson (1986–1991),[144] Livio DeSimone (1991–2001),[145] James McNerney (2001–2005),[146] George W. Buckley (2005–2012),[147][148] and Inge Thulin (2012–2018).[149] Thulin continued to serve as executive chairman until current chair Michael F. Roman was appointed in 2019.[150]\\n 3M\\'s CEOs have included: Cross (1966–1970),[151] Heltzer (1970–1975),[142] Herzog (1975–1979),[151][152] Lehr (1979–1986),[153] Jacobson (1986–1991),[144] DeSimone (1991–2001),[145] McNerney (2001–2005),[146] Robert S. Morrison (2005, interim),[154] Buckley (2005–2012),[147][148] Thulin (2012–2018), and Roman (2018–present).[149]\\n 3M\\'s presidents have included: Edgar B. Ober (1905–1929),[155] McKnight (1929–1949),[139][156] Richard P. Carlton (1949–1953),[157] Herbert P. Buetow (1953–1963),[158] Cross (1963–1966),[159] Heltzer (1966–1970),[140] and Herzog (1970–1975).[160] In the late 1970s, the position was separated into roles for U.S. and international operations. The position overseeing domestic operations was first held by Lehr,[152] followed by John Pitblado from 1979 to 1981,[161] then Jacobson from 1984 to 1991.[162] James A. Thwaits led international operations starting in 1979.[161] Buckley and Thulin were president during 2005–2012,[163] and 2012–2018, respectively.[149]\\n'"
      ]
     },
     "execution_count": 27,
     "metadata": {},
     "output_type": "execute_result"
    }
   ],
   "source": [
    "sp_df.text[0]"
   ]
  }
 ],
 "metadata": {
  "kernelspec": {
   "display_name": "base",
   "language": "python",
   "name": "python3"
  },
  "language_info": {
   "codemirror_mode": {
    "name": "ipython",
    "version": 3
   },
   "file_extension": ".py",
   "mimetype": "text/x-python",
   "name": "python",
   "nbconvert_exporter": "python",
   "pygments_lexer": "ipython3",
   "version": "3.9.12"
  },
  "orig_nbformat": 4,
  "vscode": {
   "interpreter": {
    "hash": "fa26c40463f8874154d39edd56089570aa63aad6f16a5acbb8740426fd6fbfc9"
   }
  }
 },
 "nbformat": 4,
 "nbformat_minor": 2
}
