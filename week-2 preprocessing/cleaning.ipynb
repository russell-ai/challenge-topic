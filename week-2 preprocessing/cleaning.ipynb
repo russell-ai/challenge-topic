{
 "cells": [
  {
   "attachments": {},
   "cell_type": "markdown",
   "metadata": {},
   "source": [
    "# import libraries"
   ]
  },
  {
   "cell_type": "code",
   "execution_count": 1,
   "metadata": {},
   "outputs": [],
   "source": [
    "import pandas as pd\n",
    "import re\n",
    "import nltk"
   ]
  },
  {
   "attachments": {},
   "cell_type": "markdown",
   "metadata": {},
   "source": [
    "# import dataset"
   ]
  },
  {
   "cell_type": "code",
   "execution_count": 2,
   "metadata": {},
   "outputs": [
    {
     "data": {
      "text/html": [
       "<div>\n",
       "<style scoped>\n",
       "    .dataframe tbody tr th:only-of-type {\n",
       "        vertical-align: middle;\n",
       "    }\n",
       "\n",
       "    .dataframe tbody tr th {\n",
       "        vertical-align: top;\n",
       "    }\n",
       "\n",
       "    .dataframe thead th {\n",
       "        text-align: right;\n",
       "    }\n",
       "</style>\n",
       "<table border=\"1\" class=\"dataframe\">\n",
       "  <thead>\n",
       "    <tr style=\"text-align: right;\">\n",
       "      <th></th>\n",
       "      <th>Symbol</th>\n",
       "      <th>name</th>\n",
       "      <th>text</th>\n",
       "    </tr>\n",
       "  </thead>\n",
       "  <tbody>\n",
       "    <tr>\n",
       "      <th>0</th>\n",
       "      <td>MMM</td>\n",
       "      <td>3M</td>\n",
       "      <td>\\n 3M (originally the Minnesota Mining and Man...</td>\n",
       "    </tr>\n",
       "    <tr>\n",
       "      <th>1</th>\n",
       "      <td>AOS</td>\n",
       "      <td>A. O. Smith</td>\n",
       "      <td>A. O. Smith Corporation is an American manufac...</td>\n",
       "    </tr>\n",
       "    <tr>\n",
       "      <th>2</th>\n",
       "      <td>ABT</td>\n",
       "      <td>Abbott</td>\n",
       "      <td>Abbott may refer to:\\n</td>\n",
       "    </tr>\n",
       "    <tr>\n",
       "      <th>3</th>\n",
       "      <td>ABBV</td>\n",
       "      <td>AbbVie</td>\n",
       "      <td>AbbVie Inc. is an American publicly traded pha...</td>\n",
       "    </tr>\n",
       "    <tr>\n",
       "      <th>4</th>\n",
       "      <td>ACN</td>\n",
       "      <td>Accenture</td>\n",
       "      <td>\\n Accenture plc is an Irish-American[5][6] pr...</td>\n",
       "    </tr>\n",
       "  </tbody>\n",
       "</table>\n",
       "</div>"
      ],
      "text/plain": [
       "  Symbol         name                                               text\n",
       "0    MMM           3M  \\n 3M (originally the Minnesota Mining and Man...\n",
       "1    AOS  A. O. Smith  A. O. Smith Corporation is an American manufac...\n",
       "2    ABT       Abbott                             Abbott may refer to:\\n\n",
       "3   ABBV       AbbVie  AbbVie Inc. is an American publicly traded pha...\n",
       "4    ACN    Accenture  \\n Accenture plc is an Irish-American[5][6] pr..."
      ]
     },
     "execution_count": 2,
     "metadata": {},
     "output_type": "execute_result"
    }
   ],
   "source": [
    "df = pd.read_csv(\"../week-1 scrape/sp500.csv\")\n",
    "df.head()"
   ]
  },
  {
   "cell_type": "code",
   "execution_count": 3,
   "metadata": {},
   "outputs": [
    {
     "name": "stdout",
     "output_type": "stream",
     "text": [
      "Coordinates: 41°00′57″N 74°12′36″W﻿ / ﻿41.015834°N 74.210136°W﻿ / 41.015834; -74.210136\n",
      " Becton, Dickinson and Company, also known as BD, is an American multinational medical technology company that manufactures and sells medical devices, instrument systems, and reagents. BD  also provides consulting and analytics services in certain geographies.[citation needed]\n",
      " BD is ranked #177 in the 2021 Fortune 500 list[5] based on its revenues for the fiscal year ending September 30, 2020.\n",
      " In October 2014, the company agreed to acquire CareFusion for a price of US$12.2 billion in cash and stock.[6]\n",
      " The company was founded in 1897 in New York City by Maxwell Becton and Fairleigh S. Dickinson. It later moved its headquarters to New Jersey.\n",
      " For the fiscal year 2017, Becton Dickinson reported earnings of US$1.030 billion, with an annual revenue of US$12.093 billion, an increase of 10.5% over the previous fiscal cycle. Becton Dickinson's shares traded at over US$192 per share, and its market capitalization was valued at over US$63 billion in November 2018.[7]\n",
      " Currently there are three business segments.\n",
      " In certain places, BD Medical also offers consulting and analytics related services. BD Medical's Consulting services are primarily targeted at hospitals, healthcare systems and networks of healthcare providers.[citation needed]\n",
      " Business units include Biosciences and Integrated Diagnostic Solutions.[citation needed]\n",
      " Offerings include preanalytical solutions for sample management; immunology research, including flow cytometry and multiomics tools; microbiology and molecular diagnostics; lab automation and informatics; and differentiated reagents and assays.[citation needed]\n",
      " BD Interventional specialties solutions promote positive clinical outcomes using minimally invasive and percutaneous techniques. \n",
      " Critical Care\n",
      "Critical Care is dedicated to helping physicians deliver uncompromised care in the areas of Bowel Management, and Patient Temperature Management Systems.\n",
      " Urology\n",
      "BD is a leader in urology and continence care. We strive to improve the quality of patient healthcare with essential, cost efficient medical devices such as intermittent catheters, urinary sheaths and urological drainage systems that provide effective clinical outcomes.\n",
      " Drainage\n",
      "Our range of acute and chronic drainage catheters has been carefully selected to meet the demands of current clinical practice, with an emphasis on improving patient quality of life.\n",
      " Peripheral Intervention\n",
      "Millions of people worldwide are impacted by major diseases each year, which is why Peripheral Intervention has a long history of providing medical device innovations, proven to be reliable, that are truly making a difference in patients’ lives.\n",
      " Surgical Solutions\n",
      "BD offers a full portfolio of hernia repair mesh, biologic implants and fixation systems. These offerings complement innovative techniques for a wide range of hernia procedures.\n",
      " Infection prevention\n",
      "Healthcare-associated infections (HAIs) represent a large and growing problem for our healthcare system. BD is uniquely positioned to help hospitals improve safety and reduce cost through our systematic and targeted approach, which combines clinically proven products, HAI surveillance and continuing education to help clinicians reduce the risk of infection.\n",
      " Biosurgery\n",
      "Enhanced sealants and hemostatic products to complement surgical techniques across, thoracic, cardiovascular and other surgical specialties.\n",
      " As of February 2010, BD was ranked 18th in the EPA Fortune 500 List of Green Power Purchasers.[8] BD was also listed among the top 100 companies in Newsweek's 2009 Green Rankings[9] ranking of the 500 largest American corporations based on environmental performance, policies, and reputation. BD placed third in the health care sector and 83rd overall.[10] In addition, BD has been a component of the Dow Jones Sustainability World Index and the Dow Jones Sustainability North America Index for the four and five consecutive years, respectively.[11]\n",
      " Pfitzer et al. (2013) identify BD's development of a needleless injection system as an example of leading businesses' role in creating shared value.[12]\n",
      " In 2004, BD agreed to pay out US$100 million to settle allegations from competitor Retractable Technologies that it had engaged in anti-competitive behavior to prevent the distribution of Retractable's syringes, which are designed to prevent needlestick injury.[13] The lawsuit touched off a series of legal conflicts between the companies. Retractable would accuse BD of patent infringement after BD released a retractable needle of its own. Later Retractable would claim BD was falsely advertising its own brand of retractable needle as the “world’s sharpest needle”.[14]\n",
      " In mid-2007, the firm's Discardit II series of syringes numbered 0607186 was withdrawn from hospitals and other medical services around Poland, about half a year after the discovery of remains of dark dust in some syringes, which were alleged to have been from this series. The newspaper Dziennik Online claimed that other series such as 06022444, 0603266, and 0607297 were also suspected of being contaminated.  BD recalled and tested the syringes in question, and revealed sterile particulates in 0.013 percent of the products.[15]\n",
      " In February 2010 BD announced a voluntary product recall of certain lots of BD Q-Syte Luer Access Devices and BD Nexiva Closed IV Catheter Systems. BD stated that the use of the affected devices may cause an air embolism or leakage of blood and/or therapy, which may result in serious injury or death. The approximately 2.8 million BD Q-Syte and 2.9 million BD Nexiva units containing 5 million BD Q-Syte devices that were recalled were distributed in the United States, Asia, Canada, Europe, Mexico, the Middle East, South Africa, and South America. The recall was initiated on Oct. 28, 2009 after BD received complaints of problems due to air entry through a part of the device. BD stated that the cause of the problem was manufacturing deviation and claimed that it corrected the problem. BD announced that it notified customers about the recall by letter and has been working with the U.S. Food and Drug Administration and worldwide health agencies to coordinate recall activities.[16]\n",
      " In April 2016, the Occupational Safety and Health Administration fined BD US$112,700 for safety violations. They found repeat and serious violations of health and safety law that had resulted in two employees having partial finger amputations.[17][18]\n",
      " In March 2021 BD announced a recall of infusion sets for CC, GP, VP, GW/GW800, SE, and IVAC 590 Alaris Pumps and gravity infusion sets and connectors following the news that a supplier falsified sterilisation documents going back ten years.[19][20]\n",
      "\n"
     ]
    }
   ],
   "source": [
    "print(df.text[60])"
   ]
  },
  {
   "attachments": {},
   "cell_type": "markdown",
   "metadata": {},
   "source": [
    "# start some text cleaning with regex and pandas"
   ]
  },
  {
   "cell_type": "code",
   "execution_count": 11,
   "metadata": {},
   "outputs": [],
   "source": [
    "s = \"\"\"\" William L. McKnight (1949–1966),[138][139] \"\"\""
   ]
  },
  {
   "cell_type": "code",
   "execution_count": 12,
   "metadata": {},
   "outputs": [
    {
     "name": "stdout",
     "output_type": "stream",
     "text": [
      "\" William L. McKnight (1949–1966),   \n"
     ]
    }
   ],
   "source": [
    "# substitute all brackets and their contents with a space\n",
    "s = re.sub(r'\\[.*?\\]', ' ', s)\n",
    "print(s)"
   ]
  },
  {
   "cell_type": "code",
   "execution_count": 28,
   "metadata": {},
   "outputs": [],
   "source": [
    "s = \" 41°00′57″N 74°12′36″W﻿ / ﻿41.015834°N 74.210136°W﻿ / 41.015834; -74.210136 \""
   ]
  },
  {
   "cell_type": "code",
   "execution_count": 29,
   "metadata": {},
   "outputs": [
    {
     "data": {
      "text/plain": [
       "' 41 00 57 N 74 12 36 W  /  41.015834 N 74.210136 W  / 41.015834;  74.210136 '"
      ]
     },
     "execution_count": 29,
     "metadata": {},
     "output_type": "execute_result"
    }
   ],
   "source": [
    "s = re.sub(r'[°′﻿″\\-]', ' ', s)\n",
    "s"
   ]
  },
  {
   "cell_type": "code",
   "execution_count": null,
   "metadata": {},
   "outputs": [],
   "source": [
    "# get rid of the brackets and their contents with a space in the text column\n",
    "df.text = df.text.apply(lambda x: re.sub(r'\\[.*?\\]', ' ', x))\n",
    "print(df.text[0])"
   ]
  },
  {
   "cell_type": "code",
   "execution_count": 32,
   "metadata": {},
   "outputs": [
    {
     "name": "stdout",
     "output_type": "stream",
     "text": [
      "Coordinates: 41 00 57 N 74 12 36 W  /  41.015834 N 74.210136 W  / 41.015834;  74.210136\n",
      " Becton, Dickinson and Company, also known as BD, is an American multinational medical technology company that manufactures and sells medical devices, instrument systems, and reagents. BD  also provides consulting and analytics services in certain geographies. \n",
      " BD is ranked #177 in the 2021 Fortune 500 list  based on its revenues for the fiscal year ending September 30, 2020.\n",
      " In October 2014, the company agreed to acquire CareFusion for a price of US$12.2 billion in cash and stock. \n",
      " The company was founded in 1897 in New York City by Maxwell Becton and Fairleigh S. Dickinson. It later moved its headquarters to New Jersey.\n",
      " For the fiscal year 2017, Becton Dickinson reported earnings of US$1.030 billion, with an annual revenue of US$12.093 billion, an increase of 10.5% over the previous fiscal cycle. Becton Dickinson's shares traded at over US$192 per share, and its market capitalization was valued at over US$63 billion in November 2018. \n",
      " Currently there are three business segments.\n",
      " In certain places, BD Medical also offers consulting and analytics related services. BD Medical's Consulting services are primarily targeted at hospitals, healthcare systems and networks of healthcare providers. \n",
      " Business units include Biosciences and Integrated Diagnostic Solutions. \n",
      " Offerings include preanalytical solutions for sample management; immunology research, including flow cytometry and multiomics tools; microbiology and molecular diagnostics; lab automation and informatics; and differentiated reagents and assays. \n",
      " BD Interventional specialties solutions promote positive clinical outcomes using minimally invasive and percutaneous techniques. \n",
      " Critical Care\n",
      "Critical Care is dedicated to helping physicians deliver uncompromised care in the areas of Bowel Management, and Patient Temperature Management Systems.\n",
      " Urology\n",
      "BD is a leader in urology and continence care. We strive to improve the quality of patient healthcare with essential, cost efficient medical devices such as intermittent catheters, urinary sheaths and urological drainage systems that provide effective clinical outcomes.\n",
      " Drainage\n",
      "Our range of acute and chronic drainage catheters has been carefully selected to meet the demands of current clinical practice, with an emphasis on improving patient quality of life.\n",
      " Peripheral Intervention\n",
      "Millions of people worldwide are impacted by major diseases each year, which is why Peripheral Intervention has a long history of providing medical device innovations, proven to be reliable, that are truly making a difference in patients’ lives.\n",
      " Surgical Solutions\n",
      "BD offers a full portfolio of hernia repair mesh, biologic implants and fixation systems. These offerings complement innovative techniques for a wide range of hernia procedures.\n",
      " Infection prevention\n",
      "Healthcare associated infections (HAIs) represent a large and growing problem for our healthcare system. BD is uniquely positioned to help hospitals improve safety and reduce cost through our systematic and targeted approach, which combines clinically proven products, HAI surveillance and continuing education to help clinicians reduce the risk of infection.\n",
      " Biosurgery\n",
      "Enhanced sealants and hemostatic products to complement surgical techniques across, thoracic, cardiovascular and other surgical specialties.\n",
      " As of February 2010, BD was ranked 18th in the EPA Fortune 500 List of Green Power Purchasers.  BD was also listed among the top 100 companies in Newsweek's 2009 Green Rankings  ranking of the 500 largest American corporations based on environmental performance, policies, and reputation. BD placed third in the health care sector and 83rd overall.  In addition, BD has been a component of the Dow Jones Sustainability World Index and the Dow Jones Sustainability North America Index for the four and five consecutive years, respectively. \n",
      " Pfitzer et al. (2013) identify BD's development of a needleless injection system as an example of leading businesses' role in creating shared value. \n",
      " In 2004, BD agreed to pay out US$100 million to settle allegations from competitor Retractable Technologies that it had engaged in anti competitive behavior to prevent the distribution of Retractable's syringes, which are designed to prevent needlestick injury.  The lawsuit touched off a series of legal conflicts between the companies. Retractable would accuse BD of patent infringement after BD released a retractable needle of its own. Later Retractable would claim BD was falsely advertising its own brand of retractable needle as the “world’s sharpest needle”. \n",
      " In mid 2007, the firm's Discardit II series of syringes numbered 0607186 was withdrawn from hospitals and other medical services around Poland, about half a year after the discovery of remains of dark dust in some syringes, which were alleged to have been from this series. The newspaper Dziennik Online claimed that other series such as 06022444, 0603266, and 0607297 were also suspected of being contaminated.  BD recalled and tested the syringes in question, and revealed sterile particulates in 0.013 percent of the products. \n",
      " In February 2010 BD announced a voluntary product recall of certain lots of BD Q Syte Luer Access Devices and BD Nexiva Closed IV Catheter Systems. BD stated that the use of the affected devices may cause an air embolism or leakage of blood and/or therapy, which may result in serious injury or death. The approximately 2.8 million BD Q Syte and 2.9 million BD Nexiva units containing 5 million BD Q Syte devices that were recalled were distributed in the United States, Asia, Canada, Europe, Mexico, the Middle East, South Africa, and South America. The recall was initiated on Oct. 28, 2009 after BD received complaints of problems due to air entry through a part of the device. BD stated that the cause of the problem was manufacturing deviation and claimed that it corrected the problem. BD announced that it notified customers about the recall by letter and has been working with the U.S. Food and Drug Administration and worldwide health agencies to coordinate recall activities. \n",
      " In April 2016, the Occupational Safety and Health Administration fined BD US$112,700 for safety violations. They found repeat and serious violations of health and safety law that had resulted in two employees having partial finger amputations.  \n",
      " In March 2021 BD announced a recall of infusion sets for CC, GP, VP, GW/GW800, SE, and IVAC 590 Alaris Pumps and gravity infusion sets and connectors following the news that a supplier falsified sterilisation documents going back ten years.  \n",
      "\n"
     ]
    },
    {
     "name": "stderr",
     "output_type": "stream",
     "text": [
      "C:\\Users\\rcali\\AppData\\Local\\Temp\\ipykernel_27220\\3968499315.py:1: FutureWarning: The default value of regex will change from True to False in a future version.\n",
      "  df.text = df.text.str.replace(r'[°′﻿″\\-]', ' ')\n"
     ]
    }
   ],
   "source": [
    "df.text = df.text.str.replace(r'[°′﻿″\\-]', ' ')\n",
    "print(df.text[60])"
   ]
  },
  {
   "cell_type": "code",
   "execution_count": 5,
   "metadata": {},
   "outputs": [
    {
     "name": "stderr",
     "output_type": "stream",
     "text": [
      "[nltk_data] Downloading package stopwords to\n",
      "[nltk_data]     C:\\Users\\rcali\\AppData\\Roaming\\nltk_data...\n",
      "[nltk_data]   Package stopwords is already up-to-date!\n"
     ]
    }
   ],
   "source": [
    "# remove all stop words\n",
    "nltk.download('stopwords')\n",
    "from nltk.corpus import stopwords"
   ]
  },
  {
   "cell_type": "code",
   "execution_count": 4,
   "metadata": {},
   "outputs": [],
   "source": [
    "s = \"BD is a leader in urology and continence care. the company's ... \""
   ]
  },
  {
   "cell_type": "code",
   "execution_count": null,
   "metadata": {},
   "outputs": [],
   "source": [
    "stop"
   ]
  },
  {
   "cell_type": "code",
   "execution_count": 6,
   "metadata": {},
   "outputs": [
    {
     "data": {
      "text/plain": [
       "\"BD leader urology continence care. company's ...\""
      ]
     },
     "execution_count": 6,
     "metadata": {},
     "output_type": "execute_result"
    }
   ],
   "source": [
    "# remove all stop words\n",
    "stop = stopwords.words('english')\n",
    "s = \" \".join(x for x in s.split() if x not in stop)\n",
    "s\n"
   ]
  },
  {
   "cell_type": "code",
   "execution_count": 9,
   "metadata": {},
   "outputs": [
    {
     "data": {
      "text/plain": [
       "'3M (originally Minnesota Mining Manufacturing Company) American multinational conglomerate operating fields industry, worker safety, U.S. health care, consumer goods.[5] The company produces 60,000 products several brands,[6] including adhesives, abrasives, laminates, passive fire protection, personal protective equipment, window films, paint protection films, dental orthodontic products, electrical electronic connecting insulating materials, medical products, car-care products,[7] electronic circuits, healthcare software optical films.[8] It based Maplewood, suburb Saint Paul, Minnesota.[9] 3M made $35.4 billion total sales 2021, ranked number 102 Fortune 500 list largest United States corporations total revenue.[10] As 2021[update], company approximately 95,000 employees, operations 70 countries.[11] Five businessmen founded Minnesota Mining Manufacturing Company mining venture Two Harbors, Minnesota, making first sale June 13, 1902.[1][12] The goal mine corundum, failed mine\\'s mineral holdings anorthosite, commercial value.[12] Co-founder John Dwan solicited funds exchange stock Edgar Ober Lucius Ordway took company 1905.[12] The company moved Duluth began researching producing sandpaper products.[12] William L. McKnight, later key executive, joined company 1907, A. G. Bush joined 1909.[12] 3M finally became financially stable 1916 able pay dividends.[12] The company moved St. Paul 1910, remained 52 years outgrowing campus moving current headquarters 3M Center Maplewood, Minnesota, 1962.[13] In 1947, 3M began producing perfluorooctanoic acid (PFOA) electrochemical fluorination.[14] In 1951, DuPont purchased PFOA then-Minnesota Mining Manufacturing Company use manufacturing teflon, product brought DuPont billion-dollar-a-year profit 1990s.[15] DuPont referred PFOA C8.[16] The original formula Scotchgard, water repellent applied fabrics, discovered accidentally 1952 3M chemists Patsy Sherman Samuel Smith. Sales began 1956, 1973 two chemists received patent formula.[17][18] In late 1950s, 3M produced first asthma inhaler,[19] company enter pharmaceutical industry mid-1960s acquisition Riker Laboratories, moving California Minnesota.[20] 3M retained Riker Laboratories name subsidiary least 1985.[21] In mid-1990s, 3M Pharmaceuticals, division came called, produced first CFC-free asthma inhaler response adoption Montreal Protocol United States.[22][23] In 1980s 1990s, company spent fifteen years developing topical cream delivery technology led 1997 health authority approval marketing symptomatic treatment genital warts, Aldara.[24][25] 3M divested pharmaceutical unit three deals 2006, netting US$2 billion.[26][27] At time, 3M Pharmaceuticals comprised 20% 3M\\'s health care business employed thousand people.[26] By 1970s, 3M developed theatrical blood formula based red colorfast microbeads suspended carrier liquid.[28] This stage blood sold Nextel Simulated Blood,[28][29] used production 1978 film Dawn Dead.[30] It since discontinued.[29] 3M Mincom involved first digital audio recordings late 1970s see commercial release prototype machine brought Sound 80 studios Minneapolis. In 1979 3M introduced digital audio recording system called \"3M Digital Audio Mastering System\".[31] In 1980, company acquired Comtal, manufacturer digital image processors.[32] 3M launched \"Press \\'n Peel\" stores four cities 1977, results disappointing.[33][34] A year later 3M instead issued free samples directly consumers Boise, Idaho, 95% tried indicating would buy product.[33] The product sold \"Post-its\" 1979 rollout introduction began,[35] sold across United States[35] April 6, 1980.[36] The following year launched Canada Europe.[37] On 100th anniversary, 3M changed legal name \"3M Company\" April 8, 2002.[38][39] On September 8, 2008, 3M announced agreement acquire Meguiar\\'s, car-care products company family-owned century.[40] In August 2010, 3M acquired Cogent Systems $943 million[41] October 13, 2010, 3M completed acquisition Arizant Inc.[42] In December 2011, 3M completed acquisition Winterthur Technology Group, bonded abrasives company. As 2012, 3M one 30 companies included Dow Jones Industrial Average, added August 9, 1976, 97 2011 Fortune 500 list.[43] On January 3, 2012, announced Office Consumer Products Division Avery Dennison bought 3M $550 million.[44] The transaction canceled 3M September 2012 amid antitrust concerns.[45] In May 2013, 3M sold Scientific Anglers Ross Reels Orvis. Ross Reels acquired 3M 2010.[46] In March 2017, 3M purchased Johnson Controls International Plc\\'s safety gear business, Scott Safety, $2 billion.[47] In 2017, 3M net sales year $31.657 billion, $30.109 billion year before.[48] In 2018, reported company would pay $850 million end Minnesota water pollution case concerning perfluorochemicals.[49] On May 25, 2018, Michael F. Roman appointed CEO board directors.[50] There international subsidiaries 3M India, 3M Japan, 3M Canada.[51] On December 19, 2018, 3M announced entered definitive agreement acquire technology business M*Modal, total enterprise value $1.0 billion.[52] In October 2019, 3M purchased Acelity KCI subsidiaries $6.7 billion, including assumption debt adjustments.[53] On May 1, 2020, 3M divested substantially drug delivery business affiliate Altaris Capital Partners, LLC., approximately $650 million including 17% interest new operating company, Kindeva Drug Delivery.[54] In December 2021, 3M announced would merge food-safety business food testing animal healthcare products maker Neogen.[55] The deal, enterprise value $5.3 billion,[55] closed September 2022.[56] In July 2022, company announced would spin healthcare assets form new, independent firm, likely completing transaction 2023.[57] 3M retain ownership stake 19.9% new, publicly-traded health care company gradually divest holdings.[57][58] In December 2022, company announced stop producing using so-called \"forever chemicals,\" commonly used items food packaging, cellphones, non-stick pans, fire-fighting foams, clothing, etc. These chemicals well known water-resistant non-stick properties, also dangerous pollutants linked serious health problems, including ulcerative colitis cancer.[59][60] The move comes governments Netherlands United States consider actions chemicals 3M.[61][62] 3M produces approximately 60,000 products, 2019,[63] four business groups focused safety industrial, transportation electronics, health care, consumer products.[64] 3M obtained first patent 1924, acquires approximately 3,000 new patents annually. The company surpassed 100,000-patent threshold 2014.[65] 3M\\'s Pollution Prevention Pays (3P) program established 1975. The program initially focused pollution reduction plant level expanded promote recycling reduce waste across divisions 1989. By early 1990s, approximately 2,500 3P projects decreased company\\'s total global pollutant generation 50 percent saved 3M $500–600 million eliminating production waste requiring subsequent treatment.[67][68] In 1983, Oakdale Dump Oakdale, Minnesota, listed EPA Superfund site significant groundwater soil contamination VOCs heavy metals uncovered.[69] The Oakdale Dump 3M dumping site utilized 1940s 1950s. During 1990s 2000s, 3M reduced releases toxic pollutants 99 percent greenhouse gas emissions 72 percent. The company earned United States Environmental Protection Agency\\'s Energy Star Award year honor presented, 2012.[70] In 1999, U.S. Environmental Protection Agency began investigating perfluorinated chemicals receiving data global distribution toxicity perfluorooctanesulfonic acid (PFOS).[71] These materials part broad group perfluoroalkyl polyfluoroalkyl substances often referred PFAS, different chemical properties.[72] 3M, former primary producer PFOS U.S., announced phase-out PFOS, perfluorooctanoic acid, PFOS-related product production May 2000.[73][74] Perfluorinated compounds produced 3M used non-stick cookware, stain-resistant fabrics, products. The Cottage Grove facility manufactured PFAS 1940s 2002.[75] In response PFAS contamination Mississippi River surrounding area, 3M stated area \"cleaned combination groundwater pump-out wells soil sediment excavation\". The restoration plan based analysis company property surrounding lands.[76] The on-site water treatment facility handled plant\\'s post-production water capable removing PFAS, released nearby Mississippi River.[75] The clean-up cost estimate, included granular activated carbon system remove PFAS ground water $50 $56 million,[77] funded $147 million environmental reserve set aside 2006.[78] In 2008, 3M created Renewable Energy Division within 3M\\'s Industrial Transportation Business focus Energy Generation Energy Management.[79][80] In late 2010, state Minnesota sued 3M $5 billion punitive damages, claiming released PFCs—classified toxic chemical EPA—into local waterways.[81] A settlement $850 million reached February 2018,[82][74][83] although 2019, 3M, along Chemours Company DuPont, appeared lawmakers deny responsibility, company Senior VP Corporate Affairs Denise Rutherford arguing chemicals pose human health threats current levels victims.[84] 3M\\'s Zwijndrecht (Belgium) factory caused PFOS pollution may contaminating agricultural products within 15 kilometer radius plant includes Antwerp.[85][86] The Flemish Government paid 63 million euros cleanup costs far 3M contributing 75,000 euros.[87] The Flemish Government issued measures advising consumption of, example, home-grown eggs within radius 5 kilometers.[88] 3M reported Total CO2e emissions (Direct + Indirect) twelve months ending December 31, 2020, 5,280 Kt (-550 /-9.4% y-o-y)[89] plans reduce emissions 50% 2030 2019 base year.[90] The company also aims achieve carbon neutrality 2050.[91] The Combat Arms Earplugs, Version 2 (CAEv2), developed Aearo Technologies U.S. military civilian use. The CAEv2 double ended earplug 3M claimed would offer users different levels protection.[98] Between 2003 2015, earplugs standard issue members U.S. military.[99] 3M acquired Aearo Technologies 2008.[100] In May 2016, Moldex-Metric, Inc., 3M competitor, filed whistleblower complaint 3M False Claims Act. Moldex-Metric claimed 3M made false claims U.S. government safety earplugs, knew earplugs inherently defective design.[101] In 2018, 3M agreed pay $9.1 million U.S. government resolve allegations, without admitting liability.[102] Since 2018, 140,000 former users earplugs (primarily U.S. military veterans) filed suit 3M claiming suffer hearing loss, tinnitus, damage consequence defective design.[103] Internal emails showed 3M officials boasted charging $7.63 per piece earplugs cost 85 cents produce. The company\\'s official response indicated cost government includes R&D costs.[104] The N95 respirator mask developed 3M approved 1972.[105] Being able filter viral particulates, use recommended COVID-19 pandemic supply soon became short.[105] Much company\\'s supply already sold prior outbreak.[106] The shortages led U.S. government asking 3M stop exporting US-made N95 respirator masks Canada Latin American countries,[107] President Donald Trump invoked Defense Production Act require 3M prioritize orders federal government.[108] The dispute resolved 3M agreed import respirators, mostly factories China.[108] 3M later struck CA$70M deal federal government Canada Ontario provincial government produce N95 masks plant Brockville, Ontario.[109] 3M\\'s general offices, corporate research laboratories, division laboratories U.S. St. Paul, Minnesota. In United States, 3M operates 80 manufacturing facilities 29 states, 125 manufacturing converting facilities 37 countries outside U.S. (in 2017).[110] In March 2016, 3M completed 400,000-square-foot (37,000 m2) research-and-development building cost $150 million Maplewood campus. Seven hundred scientists various divisions occupy building. They previously scattered across campus. 3M hopes concentrating research development manner improve collaboration. 3M received $9.6 million local tax increment financing relief state sales taxes order assist development building.[111] Selected factory detail information: Board chairs included: William L. McKnight (1949–1966),[138][139] Bert S. Cross (1966–1970),[140][141] Harry Heltzer (1970–1975),[142] Raymond H. Herzog (1975–1980),[143] Lewis W. Lehr (1980–1986), Allen F. Jacobson (1986–1991),[144] Livio DeSimone (1991–2001),[145] James McNerney (2001–2005),[146] George W. Buckley (2005–2012),[147][148] Inge Thulin (2012–2018).[149] Thulin continued serve executive chairman current chair Michael F. Roman appointed 2019.[150] 3M\\'s CEOs included: Cross (1966–1970),[151] Heltzer (1970–1975),[142] Herzog (1975–1979),[151][152] Lehr (1979–1986),[153] Jacobson (1986–1991),[144] DeSimone (1991–2001),[145] McNerney (2001–2005),[146] Robert S. Morrison (2005, interim),[154] Buckley (2005–2012),[147][148] Thulin (2012–2018), Roman (2018–present).[149] 3M\\'s presidents included: Edgar B. Ober (1905–1929),[155] McKnight (1929–1949),[139][156] Richard P. Carlton (1949–1953),[157] Herbert P. Buetow (1953–1963),[158] Cross (1963–1966),[159] Heltzer (1966–1970),[140] Herzog (1970–1975).[160] In late 1970s, position separated roles U.S. international operations. The position overseeing domestic operations first held Lehr,[152] followed John Pitblado 1979 1981,[161] Jacobson 1984 1991.[162] James A. Thwaits led international operations starting 1979.[161] Buckley Thulin president 2005–2012,[163] 2012–2018, respectively.[149]'"
      ]
     },
     "execution_count": 9,
     "metadata": {},
     "output_type": "execute_result"
    }
   ],
   "source": [
    "df.text = df.text.apply(lambda x: \" \".join(x for x in x.split() if x not in stop))\n",
    "df.text[0]"
   ]
  },
  {
   "cell_type": "code",
   "execution_count": 8,
   "metadata": {},
   "outputs": [
    {
     "data": {
      "text/plain": [
       "'\\n 3M (originally the Minnesota Mining and Manufacturing Company) is an American multinational conglomerate operating in the fields of industry, worker safety, U.S. health care, and consumer goods.[5] The company produces over 60,000 products under several brands,[6] including adhesives, abrasives, laminates, passive fire protection, personal protective equipment, window films, paint protection films, dental and orthodontic products, electrical and electronic connecting and insulating materials, medical products, car-care products,[7] electronic circuits, healthcare software and optical films.[8] It is based in Maplewood, a suburb of Saint Paul, Minnesota.[9]\\n 3M made $35.4 billion in total sales in 2021, and ranked number 102 in the Fortune 500 list of the largest United States corporations by total revenue.[10] As of 2021[update], the company had approximately 95,000 employees, and had operations in more than 70 countries.[11]\\n Five businessmen founded the Minnesota Mining and Manufacturing Company as a mining venture in Two Harbors, Minnesota, making their first sale on June 13, 1902.[1][12] The goal was to mine corundum, but this failed because the mine\\'s mineral holdings were anorthosite, which had no commercial value.[12] Co-founder John Dwan solicited funds in exchange for stock and Edgar Ober and Lucius Ordway took over the company in 1905.[12] The company moved to Duluth and began researching and producing sandpaper products.[12] William L. McKnight, later a key executive, joined the company in 1907, and A.\\xa0G. Bush joined in 1909.[12] 3M finally became financially stable in 1916 and was able to pay dividends.[12]\\n The company moved to St.\\xa0Paul in 1910, where it remained for 52 years before outgrowing the campus and moving to its current headquarters at 3M Center in Maplewood, Minnesota, in 1962.[13]\\n In 1947, 3M began producing perfluorooctanoic acid (PFOA) by electrochemical fluorination.[14]\\n In 1951, DuPont purchased PFOA from then-Minnesota Mining and Manufacturing Company for use in the manufacturing of teflon, a product that brought DuPont a billion-dollar-a-year profit by the 1990s.[15] DuPont referred to PFOA as C8.[16] The original formula for Scotchgard, a water repellent applied to fabrics, was discovered accidentally in 1952 by 3M chemists Patsy Sherman and Samuel Smith. Sales began in 1956, and in 1973 the two chemists received a patent for the formula.[17][18]\\n In the late 1950s, 3M produced the first asthma inhaler,[19] but the company did not enter the pharmaceutical industry until the mid-1960s with the acquisition of Riker Laboratories, moving it from California to Minnesota.[20] 3M retained the Riker Laboratories name for the subsidiary until at least 1985.[21] In the mid-1990s, 3M Pharmaceuticals, as the division came to be called, produced the first CFC-free asthma inhaler in response to adoption of the Montreal Protocol by the United States.[22][23] In the 1980s and 1990s, the company spent fifteen years developing a topical cream delivery technology which led in 1997 to health authority approval and marketing of a symptomatic treatment for genital warts, Aldara.[24][25] 3M divested its pharmaceutical unit through three deals in 2006, netting more than US$2 billion.[26][27] At the time, 3M Pharmaceuticals comprised about 20% of 3M\\'s health care business and employed just over a thousand people.[26]\\n By the 1970s, 3M developed a theatrical blood formula based on red colorfast microbeads suspended in a carrier liquid.[28] This stage blood was sold as Nextel Simulated Blood,[28][29] and was used during the production of the 1978 film Dawn of the Dead.[30] It has since been discontinued.[29]\\n 3M Mincom was involved in some of the first digital audio recordings of the late 1970s to see commercial release when a prototype machine was brought to the Sound 80 studios in Minneapolis. In 1979 3M introduced a digital audio recording system called \"3M Digital Audio Mastering System\".[31]\\n In 1980, the company acquired Comtal, a manufacturer of digital image processors.[32]\\n 3M launched \"Press \\'n Peel\" in stores in four cities in 1977, but the results were disappointing.[33][34] A year later 3M instead issued free samples directly to consumers in Boise, Idaho, with 95% of those who tried them indicating they would buy the product.[33] The product was sold as \"Post-its\" in 1979 when the rollout introduction began,[35] and was sold across the United States[35] from April 6, 1980.[36] The following year they were launched in Canada and Europe.[37]\\n On its 100th anniversary, 3M changed its legal name to \"3M Company\" on April 8, 2002.[38][39] On September 8, 2008, 3M announced an agreement to acquire Meguiar\\'s, a car-care products company that was family-owned for over a century.[40] In August 2010, 3M acquired Cogent Systems for $943 million[41] and on October 13, 2010, 3M completed acquisition of Arizant Inc.[42] In December 2011, 3M completed the acquisition of the Winterthur Technology Group, a bonded abrasives company.\\n As of 2012, 3M was one of the 30 companies included in the Dow Jones Industrial Average, added on August 9, 1976, and was 97 on the 2011 Fortune 500 list.[43] On January 3, 2012, it was announced that the Office and Consumer Products Division of Avery Dennison was being bought by 3M for $550 million.[44] The transaction was canceled by 3M in September 2012 amid antitrust concerns.[45]\\n In May 2013, 3M sold Scientific Anglers and Ross Reels to Orvis. Ross Reels had been acquired by 3M in 2010.[46]\\n In March 2017, 3M purchased Johnson Controls International Plc\\'s safety gear business, Scott Safety, for $2 billion.[47]\\n In 2017, 3M had net sales for the year of $31.657 billion, up from $30.109 billion the year before.[48] In 2018, it was reported that the company would pay $850 million to end the Minnesota water pollution case concerning perfluorochemicals.[49]\\n On May 25, 2018, Michael F. Roman was appointed CEO by the board of directors.[50] There are a few international subsidiaries such as 3M India, 3M Japan, and 3M Canada.[51]\\nOn December 19, 2018, 3M announced it had entered into a definitive agreement to acquire the technology business of M*Modal, for a total enterprise value of $1.0 billion.[52]\\n In October 2019, 3M purchased Acelity and its KCI subsidiaries for $6.7 billion, including assumption of debt and other adjustments.[53]\\n On May 1, 2020, 3M divested substantially all of its drug delivery business to an affiliate of Altaris Capital Partners, LLC., for approximately $650 million including a 17% interest in the new operating company, Kindeva Drug Delivery.[54]\\n In December 2021, 3M announced that it would merge its food-safety business with food testing and animal healthcare products maker Neogen.[55] The deal, with an enterprise value of about $5.3 billion,[55] closed in September 2022.[56]\\n In July 2022, the company announced it would spin off its healthcare assets to form a new, independent firm, likely completing the transaction in 2023.[57] 3M will retain an ownership stake of 19.9% in the new, publicly-traded health care company and gradually divest the holdings.[57][58]\\n In December 2022, the company announced it will stop producing and using the so-called \"forever chemicals,\" that have been commonly used in items such as food packaging, cellphones, non-stick pans, fire-fighting foams, clothing, etc. These chemicals are well known for their water-resistant and non-stick properties, but they are also dangerous pollutants that are linked with serious health problems, including ulcerative colitis and cancer.[59][60] The move comes as governments in the Netherlands and the United States consider actions against the chemicals and 3M.[61][62]\\n 3M produces approximately 60,000 products, as of 2019,[63] and has four business groups focused on safety and industrial, transportation and electronics, health care, and consumer products.[64] 3M obtained its first patent in 1924, and acquires approximately 3,000 new patents annually. The company surpassed the 100,000-patent threshold in 2014.[65]\\n 3M\\'s Pollution Prevention Pays (3P) program was established in 1975. The program initially focused on pollution reduction at the plant level and was expanded to promote recycling and reduce waste across all divisions in 1989. By the early 1990s, approximately 2,500 3P projects decreased the company\\'s total global pollutant generation by 50 percent and saved 3M $500–600 million by eliminating the production of waste requiring subsequent treatment.[67][68]\\n In 1983, the Oakdale Dump in Oakdale, Minnesota, was listed as an EPA Superfund site after significant groundwater and soil contamination by VOCs and heavy metals was uncovered.[69] The Oakdale Dump was a 3M dumping site utilized through the 1940s and 1950s.\\n During the 1990s and 2000s, 3M reduced releases of toxic pollutants by 99 percent and greenhouse gas emissions by 72 percent. The company earned the United States Environmental Protection Agency\\'s Energy Star Award each year the honor was presented, as of 2012.[70]\\n In 1999, the U.S. Environmental Protection Agency began investigating perfluorinated chemicals after receiving data on the global distribution and toxicity of perfluorooctanesulfonic acid (PFOS).[71] These materials are part of a broad group of perfluoroalkyl and polyfluoroalkyl substances often referred to as PFAS, each of which has different chemical properties.[72] 3M, the former primary producer of PFOS from the U.S., announced the phase-out of PFOS, perfluorooctanoic acid, and PFOS-related product production in May 2000.[73][74] Perfluorinated compounds produced by 3M have been used in non-stick cookware, stain-resistant fabrics, and other products.\\n The Cottage Grove facility manufactured PFAS from the 1940s to 2002.[75] In response to PFAS contamination of the Mississippi River and surrounding area, 3M stated the area will be \"cleaned through a combination of groundwater pump-out wells and soil sediment excavation\". The restoration plan was based on an analysis of the company property and surrounding lands.[76] The on-site water treatment facility that handled the plant\\'s post-production water was not capable of removing PFAS, which were released into the nearby Mississippi River.[75] The clean-up cost estimate, which included a granular activated carbon system to remove PFAS from the ground water was $50 to $56 million,[77] funded from a $147 million environmental reserve set aside in 2006.[78]\\n In 2008, 3M created the Renewable Energy Division within 3M\\'s Industrial and Transportation Business to focus on Energy Generation and Energy Management.[79][80]\\n In late 2010, the state of Minnesota sued 3M for $5 billion in punitive damages, claiming they released PFCs—classified a toxic chemical by the EPA—into local waterways.[81] A settlement for $850 million was reached in February 2018,[82][74][83] although in 2019, 3M, along with the Chemours Company and DuPont, appeared before lawmakers to deny responsibility, with company Senior VP of Corporate Affairs Denise Rutherford arguing that the chemicals pose no human health threats at current levels and have no victims.[84]\\n 3M\\'s Zwijndrecht (Belgium) factory caused PFOS pollution that may be contaminating agricultural products within a 15 kilometer radius of the plant which includes Antwerp.[85][86] The Flemish Government has paid 63 million euros for cleanup costs so far with 3M contributing 75,000 euros.[87] The Flemish Government issued measures advising against the consumption of, for example, home-grown eggs within a radius of 5 kilometers.[88]\\n 3M reported Total CO2e emissions (Direct + Indirect) for the twelve months ending December 31, 2020, at 5,280 Kt (-550 /-9.4% y-o-y)[89] and plans to reduce emissions 50% by 2030 from a 2019 base year.[90] The company also aims achieve carbon neutrality by 2050.[91]\\n The Combat Arms Earplugs, Version 2 (CAEv2), was developed by Aearo Technologies for U.S. military and civilian use. The CAEv2  was a double ended earplug that 3M claimed would offer users different levels of protection.[98] Between 2003 and 2015, these earplugs were standard issue to members of the U.S. military.[99] 3M acquired Aearo Technologies in 2008.[100]\\n In May 2016, Moldex-Metric, Inc., a 3M competitor, filed a whistleblower complaint against 3M under the False Claims Act. Moldex-Metric claimed that 3M made false claims to the U.S. government about the safety of its earplugs, and that it knew the earplugs had an inherently defective design.[101] In 2018, 3M agreed to pay $9.1 million to the U.S. government to resolve the allegations, without admitting liability.[102]\\n Since 2018, more than 140,000 former users of the earplugs (primarily U.S. military veterans) have filed suit against 3M claiming they suffer from hearing loss, tinnitus, and other damage as a consequence of the defective design.[103]\\n Internal emails showed that 3M officials boasted about charging $7.63 per piece for the earplugs which cost 85 cents to produce.  The company\\'s official response indicated that the cost to the government includes R&D costs.[104]\\n The N95 respirator mask was developed by 3M and approved in 1972.[105] Being able to filter viral particulates, its use was recommended during the COVID-19 pandemic but supply soon became short.[105] Much of the company\\'s supply had already been sold prior to the outbreak.[106]\\n The shortages led to the U.S. government asking 3M to stop exporting US-made N95 respirator masks to Canada and to Latin American countries,[107] and President Donald Trump invoked the Defense Production Act to require 3M to prioritize orders from the federal government.[108] The dispute was resolved when 3M agreed to import more respirators, mostly from its factories in China.[108]\\n 3M later struck a CA$70M deal with the federal government of Canada and the Ontario provincial government to produce N95 masks at their plant in Brockville, Ontario.[109]\\n 3M\\'s general offices, corporate research laboratories, and some division laboratories in the U.S. are in St. Paul, Minnesota.  In the United States, 3M operates 80 manufacturing facilities in 29 states, and 125 manufacturing and converting facilities in 37 countries outside the U.S. (in 2017).[110]\\n In March 2016, 3M completed a 400,000-square-foot (37,000\\xa0m2) research-and-development building that cost $150 million on its Maplewood campus. Seven hundred scientists from various divisions occupy the building.  They were previously scattered across the campus.  3M hopes concentrating its research and development in this manner will improve collaboration.  3M received $9.6 million in local tax increment financing and relief from state sales taxes in order to assist with development of the building.[111]\\n Selected factory detail information:\\n Board chairs have included: William L. McKnight (1949–1966),[138][139] Bert S. Cross (1966–1970),[140][141] Harry Heltzer (1970–1975),[142] Raymond H. Herzog (1975–1980),[143] Lewis W. Lehr (1980–1986), Allen F. Jacobson (1986–1991),[144] Livio DeSimone (1991–2001),[145] James McNerney (2001–2005),[146] George W. Buckley (2005–2012),[147][148] and Inge Thulin (2012–2018).[149] Thulin continued to serve as executive chairman until current chair Michael F. Roman was appointed in 2019.[150]\\n 3M\\'s CEOs have included: Cross (1966–1970),[151] Heltzer (1970–1975),[142] Herzog (1975–1979),[151][152] Lehr (1979–1986),[153] Jacobson (1986–1991),[144] DeSimone (1991–2001),[145] McNerney (2001–2005),[146] Robert S. Morrison (2005, interim),[154] Buckley (2005–2012),[147][148] Thulin (2012–2018), and Roman (2018–present).[149]\\n 3M\\'s presidents have included: Edgar B. Ober (1905–1929),[155] McKnight (1929–1949),[139][156] Richard P. Carlton (1949–1953),[157] Herbert P. Buetow (1953–1963),[158] Cross (1963–1966),[159] Heltzer (1966–1970),[140] and Herzog (1970–1975).[160] In the late 1970s, the position was separated into roles for U.S. and international operations. The position overseeing domestic operations was first held by Lehr,[152] followed by John Pitblado from 1979 to 1981,[161] then Jacobson from 1984 to 1991.[162] James A. Thwaits led international operations starting in 1979.[161] Buckley and Thulin were president during 2005–2012,[163] and 2012–2018, respectively.[149]\\n'"
      ]
     },
     "execution_count": 8,
     "metadata": {},
     "output_type": "execute_result"
    }
   ],
   "source": [
    "df.text[0]"
   ]
  },
  {
   "cell_type": "code",
   "execution_count": 10,
   "metadata": {},
   "outputs": [
    {
     "name": "stderr",
     "output_type": "stream",
     "text": [
      "[nltk_data] Downloading package wordnet to\n",
      "[nltk_data]     C:\\Users\\rcali\\AppData\\Roaming\\nltk_data...\n",
      "[nltk_data]   Package wordnet is already up-to-date!\n"
     ]
    },
    {
     "data": {
      "text/plain": [
       "True"
      ]
     },
     "execution_count": 10,
     "metadata": {},
     "output_type": "execute_result"
    }
   ],
   "source": [
    "\n",
    "nltk.download('wordnet')"
   ]
  },
  {
   "cell_type": "code",
   "execution_count": 13,
   "metadata": {},
   "outputs": [],
   "source": [
    "s = \"3M (originally Minnesota Mining Manufacturing Company) American multinational conglomerate operating fields industry, worker safety,\""
   ]
  },
  {
   "cell_type": "code",
   "execution_count": 14,
   "metadata": {},
   "outputs": [
    {
     "data": {
      "text/plain": [
       "'3M (originally Minnesota Mining Manufacturing Company) American multinational conglomerate operating field industry, worker safety,'"
      ]
     },
     "execution_count": 14,
     "metadata": {},
     "output_type": "execute_result"
    }
   ],
   "source": [
    "# do lemmatization\n",
    "from nltk.stem import WordNetLemmatizer\n",
    "lemmatizer = WordNetLemmatizer()\n",
    "s = \" \".join(lemmatizer.lemmatize(x) for x in s.split())\n",
    "s\n",
    "\n"
   ]
  },
  {
   "cell_type": "code",
   "execution_count": 15,
   "metadata": {},
   "outputs": [
    {
     "data": {
      "text/plain": [
       "'studying'"
      ]
     },
     "execution_count": 15,
     "metadata": {},
     "output_type": "execute_result"
    }
   ],
   "source": [
    "lemmatizer.lemmatize(\"studying\") "
   ]
  },
  {
   "attachments": {},
   "cell_type": "markdown",
   "metadata": {},
   "source": [
    "# wrap up all necessary cleanings under a function"
   ]
  },
  {
   "cell_type": "code",
   "execution_count": 9,
   "metadata": {},
   "outputs": [],
   "source": [
    "import pandas as pd\n",
    "import re\n",
    "import nltk\n",
    "\n",
    "\n",
    "def text_cleaner(text:str, \n",
    "                 language:str='english', \n",
    "                 remove_stopwords:bool=True, \n",
    "                 remove_short_words:int=1, \n",
    "                 remove_numbers:bool=True, \n",
    "                 remove_punctuation:bool=True, \n",
    "                 remove_non_ascii:bool=True, \n",
    "                 lower_case:bool=True)->str:\n",
    "    # lower case\n",
    "    if lower_case: \n",
    "        text = text.lower()\n",
    "    # remove punctuation\n",
    "    if remove_punctuation:\n",
    "        text = re.sub(r'[^\\w\\s]','',text)\n",
    "    # remove numbers\n",
    "    if remove_numbers:\n",
    "        text = re.sub(r'\\d+','',text)\n",
    "    # remove stop words\n",
    "    if remove_stopwords:\n",
    "        stopwords = nltk.corpus.stopwords.words(language)\n",
    "        text = ' '.join([word for word in text.split() if word not in stopwords])\n",
    "    # remove short words\n",
    "    if remove_short_words:\n",
    "        text = ' '.join([word for word in text.split() if len(word) > remove_short_words])\n",
    "    # remove non-ascii characters\n",
    "    if remove_non_ascii:\n",
    "        text = text.encode('ascii', 'ignore').decode('utf-8', 'ignore')\n",
    "    return text"
   ]
  },
  {
   "cell_type": "code",
   "execution_count": 8,
   "metadata": {},
   "outputs": [
    {
     "data": {
      "text/html": [
       "<div>\n",
       "<style scoped>\n",
       "    .dataframe tbody tr th:only-of-type {\n",
       "        vertical-align: middle;\n",
       "    }\n",
       "\n",
       "    .dataframe tbody tr th {\n",
       "        vertical-align: top;\n",
       "    }\n",
       "\n",
       "    .dataframe thead th {\n",
       "        text-align: right;\n",
       "    }\n",
       "</style>\n",
       "<table border=\"1\" class=\"dataframe\">\n",
       "  <thead>\n",
       "    <tr style=\"text-align: right;\">\n",
       "      <th></th>\n",
       "      <th>Symbol</th>\n",
       "      <th>name</th>\n",
       "      <th>text</th>\n",
       "    </tr>\n",
       "  </thead>\n",
       "  <tbody>\n",
       "    <tr>\n",
       "      <th>0</th>\n",
       "      <td>MMM</td>\n",
       "      <td>3M</td>\n",
       "      <td>\\n 3M (originally the Minnesota Mining and Man...</td>\n",
       "    </tr>\n",
       "    <tr>\n",
       "      <th>1</th>\n",
       "      <td>AOS</td>\n",
       "      <td>A. O. Smith</td>\n",
       "      <td>A. O. Smith Corporation is an American manufac...</td>\n",
       "    </tr>\n",
       "    <tr>\n",
       "      <th>2</th>\n",
       "      <td>ABT</td>\n",
       "      <td>Abbott</td>\n",
       "      <td>Abbott may refer to:\\n</td>\n",
       "    </tr>\n",
       "    <tr>\n",
       "      <th>3</th>\n",
       "      <td>ABBV</td>\n",
       "      <td>AbbVie</td>\n",
       "      <td>AbbVie Inc. is an American publicly traded pha...</td>\n",
       "    </tr>\n",
       "    <tr>\n",
       "      <th>4</th>\n",
       "      <td>ACN</td>\n",
       "      <td>Accenture</td>\n",
       "      <td>\\n Accenture plc is an Irish-American[5][6] pr...</td>\n",
       "    </tr>\n",
       "  </tbody>\n",
       "</table>\n",
       "</div>"
      ],
      "text/plain": [
       "  Symbol         name                                               text\n",
       "0    MMM           3M  \\n 3M (originally the Minnesota Mining and Man...\n",
       "1    AOS  A. O. Smith  A. O. Smith Corporation is an American manufac...\n",
       "2    ABT       Abbott                             Abbott may refer to:\\n\n",
       "3   ABBV       AbbVie  AbbVie Inc. is an American publicly traded pha...\n",
       "4    ACN    Accenture  \\n Accenture plc is an Irish-American[5][6] pr..."
      ]
     },
     "execution_count": 8,
     "metadata": {},
     "output_type": "execute_result"
    }
   ],
   "source": [
    "\n",
    "df = pd.read_csv(\"../week-1 scrape/sp500.csv\")\n",
    "df.head()"
   ]
  },
  {
   "cell_type": "code",
   "execution_count": 10,
   "metadata": {},
   "outputs": [
    {
     "data": {
      "text/plain": [
       "'\\n 3M (originally the Minnesota Mining and Manufacturing Company) is an American multinational conglomerate operating in the fields of industry, worker safety, U.S. health care, and consumer goods.[5] The company produces over 60,000 products under several brands,[6] including adhesives, abrasives, laminates, passive fire protection, personal protective equipment, window films, paint protection films, dental and orthodontic products, electrical and electronic connecting and insulating materials, medical products, car-care products,[7] electronic circuits, healthcare software and optical films.[8] It is based in Maplewood, a suburb of Saint Paul, Minnesota.[9]\\n 3M made $35.4 billion in total sales in 2021, and ranked number 102 in the Fortune 500 list of the largest United States corporations by total revenue.[10] As of 2021[update], the company had approximately 95,000 employees, and had operations in more than 70 countries.[11]\\n Five businessmen founded the Minnesota Mining and Manufacturing Company as a mining venture in Two Harbors, Minnesota, making their first sale on June 13, 1902.[1][12] The goal was to mine corundum, but this failed because the mine\\'s mineral holdings were anorthosite, which had no commercial value.[12] Co-founder John Dwan solicited funds in exchange for stock and Edgar Ober and Lucius Ordway took over the company in 1905.[12] The company moved to Duluth and began researching and producing sandpaper products.[12] William L. McKnight, later a key executive, joined the company in 1907, and A.\\xa0G. Bush joined in 1909.[12] 3M finally became financially stable in 1916 and was able to pay dividends.[12]\\n The company moved to St.\\xa0Paul in 1910, where it remained for 52 years before outgrowing the campus and moving to its current headquarters at 3M Center in Maplewood, Minnesota, in 1962.[13]\\n In 1947, 3M began producing perfluorooctanoic acid (PFOA) by electrochemical fluorination.[14]\\n In 1951, DuPont purchased PFOA from then-Minnesota Mining and Manufacturing Company for use in the manufacturing of teflon, a product that brought DuPont a billion-dollar-a-year profit by the 1990s.[15] DuPont referred to PFOA as C8.[16] The original formula for Scotchgard, a water repellent applied to fabrics, was discovered accidentally in 1952 by 3M chemists Patsy Sherman and Samuel Smith. Sales began in 1956, and in 1973 the two chemists received a patent for the formula.[17][18]\\n In the late 1950s, 3M produced the first asthma inhaler,[19] but the company did not enter the pharmaceutical industry until the mid-1960s with the acquisition of Riker Laboratories, moving it from California to Minnesota.[20] 3M retained the Riker Laboratories name for the subsidiary until at least 1985.[21] In the mid-1990s, 3M Pharmaceuticals, as the division came to be called, produced the first CFC-free asthma inhaler in response to adoption of the Montreal Protocol by the United States.[22][23] In the 1980s and 1990s, the company spent fifteen years developing a topical cream delivery technology which led in 1997 to health authority approval and marketing of a symptomatic treatment for genital warts, Aldara.[24][25] 3M divested its pharmaceutical unit through three deals in 2006, netting more than US$2 billion.[26][27] At the time, 3M Pharmaceuticals comprised about 20% of 3M\\'s health care business and employed just over a thousand people.[26]\\n By the 1970s, 3M developed a theatrical blood formula based on red colorfast microbeads suspended in a carrier liquid.[28] This stage blood was sold as Nextel Simulated Blood,[28][29] and was used during the production of the 1978 film Dawn of the Dead.[30] It has since been discontinued.[29]\\n 3M Mincom was involved in some of the first digital audio recordings of the late 1970s to see commercial release when a prototype machine was brought to the Sound 80 studios in Minneapolis. In 1979 3M introduced a digital audio recording system called \"3M Digital Audio Mastering System\".[31]\\n In 1980, the company acquired Comtal, a manufacturer of digital image processors.[32]\\n 3M launched \"Press \\'n Peel\" in stores in four cities in 1977, but the results were disappointing.[33][34] A year later 3M instead issued free samples directly to consumers in Boise, Idaho, with 95% of those who tried them indicating they would buy the product.[33] The product was sold as \"Post-its\" in 1979 when the rollout introduction began,[35] and was sold across the United States[35] from April 6, 1980.[36] The following year they were launched in Canada and Europe.[37]\\n On its 100th anniversary, 3M changed its legal name to \"3M Company\" on April 8, 2002.[38][39] On September 8, 2008, 3M announced an agreement to acquire Meguiar\\'s, a car-care products company that was family-owned for over a century.[40] In August 2010, 3M acquired Cogent Systems for $943 million[41] and on October 13, 2010, 3M completed acquisition of Arizant Inc.[42] In December 2011, 3M completed the acquisition of the Winterthur Technology Group, a bonded abrasives company.\\n As of 2012, 3M was one of the 30 companies included in the Dow Jones Industrial Average, added on August 9, 1976, and was 97 on the 2011 Fortune 500 list.[43] On January 3, 2012, it was announced that the Office and Consumer Products Division of Avery Dennison was being bought by 3M for $550 million.[44] The transaction was canceled by 3M in September 2012 amid antitrust concerns.[45]\\n In May 2013, 3M sold Scientific Anglers and Ross Reels to Orvis. Ross Reels had been acquired by 3M in 2010.[46]\\n In March 2017, 3M purchased Johnson Controls International Plc\\'s safety gear business, Scott Safety, for $2 billion.[47]\\n In 2017, 3M had net sales for the year of $31.657 billion, up from $30.109 billion the year before.[48] In 2018, it was reported that the company would pay $850 million to end the Minnesota water pollution case concerning perfluorochemicals.[49]\\n On May 25, 2018, Michael F. Roman was appointed CEO by the board of directors.[50] There are a few international subsidiaries such as 3M India, 3M Japan, and 3M Canada.[51]\\nOn December 19, 2018, 3M announced it had entered into a definitive agreement to acquire the technology business of M*Modal, for a total enterprise value of $1.0 billion.[52]\\n In October 2019, 3M purchased Acelity and its KCI subsidiaries for $6.7 billion, including assumption of debt and other adjustments.[53]\\n On May 1, 2020, 3M divested substantially all of its drug delivery business to an affiliate of Altaris Capital Partners, LLC., for approximately $650 million including a 17% interest in the new operating company, Kindeva Drug Delivery.[54]\\n In December 2021, 3M announced that it would merge its food-safety business with food testing and animal healthcare products maker Neogen.[55] The deal, with an enterprise value of about $5.3 billion,[55] closed in September 2022.[56]\\n In July 2022, the company announced it would spin off its healthcare assets to form a new, independent firm, likely completing the transaction in 2023.[57] 3M will retain an ownership stake of 19.9% in the new, publicly-traded health care company and gradually divest the holdings.[57][58]\\n In December 2022, the company announced it will stop producing and using the so-called \"forever chemicals,\" that have been commonly used in items such as food packaging, cellphones, non-stick pans, fire-fighting foams, clothing, etc. These chemicals are well known for their water-resistant and non-stick properties, but they are also dangerous pollutants that are linked with serious health problems, including ulcerative colitis and cancer.[59][60] The move comes as governments in the Netherlands and the United States consider actions against the chemicals and 3M.[61][62]\\n 3M produces approximately 60,000 products, as of 2019,[63] and has four business groups focused on safety and industrial, transportation and electronics, health care, and consumer products.[64] 3M obtained its first patent in 1924, and acquires approximately 3,000 new patents annually. The company surpassed the 100,000-patent threshold in 2014.[65]\\n 3M\\'s Pollution Prevention Pays (3P) program was established in 1975. The program initially focused on pollution reduction at the plant level and was expanded to promote recycling and reduce waste across all divisions in 1989. By the early 1990s, approximately 2,500 3P projects decreased the company\\'s total global pollutant generation by 50 percent and saved 3M $500–600 million by eliminating the production of waste requiring subsequent treatment.[67][68]\\n In 1983, the Oakdale Dump in Oakdale, Minnesota, was listed as an EPA Superfund site after significant groundwater and soil contamination by VOCs and heavy metals was uncovered.[69] The Oakdale Dump was a 3M dumping site utilized through the 1940s and 1950s.\\n During the 1990s and 2000s, 3M reduced releases of toxic pollutants by 99 percent and greenhouse gas emissions by 72 percent. The company earned the United States Environmental Protection Agency\\'s Energy Star Award each year the honor was presented, as of 2012.[70]\\n In 1999, the U.S. Environmental Protection Agency began investigating perfluorinated chemicals after receiving data on the global distribution and toxicity of perfluorooctanesulfonic acid (PFOS).[71] These materials are part of a broad group of perfluoroalkyl and polyfluoroalkyl substances often referred to as PFAS, each of which has different chemical properties.[72] 3M, the former primary producer of PFOS from the U.S., announced the phase-out of PFOS, perfluorooctanoic acid, and PFOS-related product production in May 2000.[73][74] Perfluorinated compounds produced by 3M have been used in non-stick cookware, stain-resistant fabrics, and other products.\\n The Cottage Grove facility manufactured PFAS from the 1940s to 2002.[75] In response to PFAS contamination of the Mississippi River and surrounding area, 3M stated the area will be \"cleaned through a combination of groundwater pump-out wells and soil sediment excavation\". The restoration plan was based on an analysis of the company property and surrounding lands.[76] The on-site water treatment facility that handled the plant\\'s post-production water was not capable of removing PFAS, which were released into the nearby Mississippi River.[75] The clean-up cost estimate, which included a granular activated carbon system to remove PFAS from the ground water was $50 to $56 million,[77] funded from a $147 million environmental reserve set aside in 2006.[78]\\n In 2008, 3M created the Renewable Energy Division within 3M\\'s Industrial and Transportation Business to focus on Energy Generation and Energy Management.[79][80]\\n In late 2010, the state of Minnesota sued 3M for $5 billion in punitive damages, claiming they released PFCs—classified a toxic chemical by the EPA—into local waterways.[81] A settlement for $850 million was reached in February 2018,[82][74][83] although in 2019, 3M, along with the Chemours Company and DuPont, appeared before lawmakers to deny responsibility, with company Senior VP of Corporate Affairs Denise Rutherford arguing that the chemicals pose no human health threats at current levels and have no victims.[84]\\n 3M\\'s Zwijndrecht (Belgium) factory caused PFOS pollution that may be contaminating agricultural products within a 15 kilometer radius of the plant which includes Antwerp.[85][86] The Flemish Government has paid 63 million euros for cleanup costs so far with 3M contributing 75,000 euros.[87] The Flemish Government issued measures advising against the consumption of, for example, home-grown eggs within a radius of 5 kilometers.[88]\\n 3M reported Total CO2e emissions (Direct + Indirect) for the twelve months ending December 31, 2020, at 5,280 Kt (-550 /-9.4% y-o-y)[89] and plans to reduce emissions 50% by 2030 from a 2019 base year.[90] The company also aims achieve carbon neutrality by 2050.[91]\\n The Combat Arms Earplugs, Version 2 (CAEv2), was developed by Aearo Technologies for U.S. military and civilian use. The CAEv2  was a double ended earplug that 3M claimed would offer users different levels of protection.[98] Between 2003 and 2015, these earplugs were standard issue to members of the U.S. military.[99] 3M acquired Aearo Technologies in 2008.[100]\\n In May 2016, Moldex-Metric, Inc., a 3M competitor, filed a whistleblower complaint against 3M under the False Claims Act. Moldex-Metric claimed that 3M made false claims to the U.S. government about the safety of its earplugs, and that it knew the earplugs had an inherently defective design.[101] In 2018, 3M agreed to pay $9.1 million to the U.S. government to resolve the allegations, without admitting liability.[102]\\n Since 2018, more than 140,000 former users of the earplugs (primarily U.S. military veterans) have filed suit against 3M claiming they suffer from hearing loss, tinnitus, and other damage as a consequence of the defective design.[103]\\n Internal emails showed that 3M officials boasted about charging $7.63 per piece for the earplugs which cost 85 cents to produce.  The company\\'s official response indicated that the cost to the government includes R&D costs.[104]\\n The N95 respirator mask was developed by 3M and approved in 1972.[105] Being able to filter viral particulates, its use was recommended during the COVID-19 pandemic but supply soon became short.[105] Much of the company\\'s supply had already been sold prior to the outbreak.[106]\\n The shortages led to the U.S. government asking 3M to stop exporting US-made N95 respirator masks to Canada and to Latin American countries,[107] and President Donald Trump invoked the Defense Production Act to require 3M to prioritize orders from the federal government.[108] The dispute was resolved when 3M agreed to import more respirators, mostly from its factories in China.[108]\\n 3M later struck a CA$70M deal with the federal government of Canada and the Ontario provincial government to produce N95 masks at their plant in Brockville, Ontario.[109]\\n 3M\\'s general offices, corporate research laboratories, and some division laboratories in the U.S. are in St. Paul, Minnesota.  In the United States, 3M operates 80 manufacturing facilities in 29 states, and 125 manufacturing and converting facilities in 37 countries outside the U.S. (in 2017).[110]\\n In March 2016, 3M completed a 400,000-square-foot (37,000\\xa0m2) research-and-development building that cost $150 million on its Maplewood campus. Seven hundred scientists from various divisions occupy the building.  They were previously scattered across the campus.  3M hopes concentrating its research and development in this manner will improve collaboration.  3M received $9.6 million in local tax increment financing and relief from state sales taxes in order to assist with development of the building.[111]\\n Selected factory detail information:\\n Board chairs have included: William L. McKnight (1949–1966),[138][139] Bert S. Cross (1966–1970),[140][141] Harry Heltzer (1970–1975),[142] Raymond H. Herzog (1975–1980),[143] Lewis W. Lehr (1980–1986), Allen F. Jacobson (1986–1991),[144] Livio DeSimone (1991–2001),[145] James McNerney (2001–2005),[146] George W. Buckley (2005–2012),[147][148] and Inge Thulin (2012–2018).[149] Thulin continued to serve as executive chairman until current chair Michael F. Roman was appointed in 2019.[150]\\n 3M\\'s CEOs have included: Cross (1966–1970),[151] Heltzer (1970–1975),[142] Herzog (1975–1979),[151][152] Lehr (1979–1986),[153] Jacobson (1986–1991),[144] DeSimone (1991–2001),[145] McNerney (2001–2005),[146] Robert S. Morrison (2005, interim),[154] Buckley (2005–2012),[147][148] Thulin (2012–2018), and Roman (2018–present).[149]\\n 3M\\'s presidents have included: Edgar B. Ober (1905–1929),[155] McKnight (1929–1949),[139][156] Richard P. Carlton (1949–1953),[157] Herbert P. Buetow (1953–1963),[158] Cross (1963–1966),[159] Heltzer (1966–1970),[140] and Herzog (1970–1975).[160] In the late 1970s, the position was separated into roles for U.S. and international operations. The position overseeing domestic operations was first held by Lehr,[152] followed by John Pitblado from 1979 to 1981,[161] then Jacobson from 1984 to 1991.[162] James A. Thwaits led international operations starting in 1979.[161] Buckley and Thulin were president during 2005–2012,[163] and 2012–2018, respectively.[149]\\n'"
      ]
     },
     "execution_count": 10,
     "metadata": {},
     "output_type": "execute_result"
    }
   ],
   "source": [
    "df.text[0]"
   ]
  },
  {
   "cell_type": "code",
   "execution_count": 13,
   "metadata": {},
   "outputs": [],
   "source": [
    "df[\"text\"] = df.text.apply(lambda x: text_cleaner(x, remove_short_words=1))"
   ]
  },
  {
   "cell_type": "code",
   "execution_count": 14,
   "metadata": {},
   "outputs": [
    {
     "data": {
      "text/plain": [
       "'originally minnesota mining manufacturing company american multinational conglomerate operating fields industry worker safety us health care consumer goods company produces products several brands including adhesives abrasives laminates passive fire protection personal protective equipment window films paint protection films dental orthodontic products electrical electronic connecting insulating materials medical products carcare products electronic circuits healthcare software optical films based maplewood suburb saint paul minnesota made billion total sales ranked number fortune list largest united states corporations total revenue update company approximately employees operations countries five businessmen founded minnesota mining manufacturing company mining venture two harbors minnesota making first sale june goal mine corundum failed mines mineral holdings anorthosite commercial value cofounder john dwan solicited funds exchange stock edgar ober lucius ordway took company company moved duluth began researching producing sandpaper products william mcknight later key executive joined company bush joined finally became financially stable able pay dividends company moved st paul remained years outgrowing campus moving current headquarters center maplewood minnesota began producing perfluorooctanoic acid pfoa electrochemical fluorination dupont purchased pfoa thenminnesota mining manufacturing company use manufacturing teflon product brought dupont billiondollarayear profit dupont referred pfoa original formula scotchgard water repellent applied fabrics discovered accidentally chemists patsy sherman samuel smith sales began two chemists received patent formula late produced first asthma inhaler company enter pharmaceutical industry mids acquisition riker laboratories moving california minnesota retained riker laboratories name subsidiary least mids pharmaceuticals division came called produced first cfcfree asthma inhaler response adoption montreal protocol united states company spent fifteen years developing topical cream delivery technology led health authority approval marketing symptomatic treatment genital warts aldara divested pharmaceutical unit three deals netting us billion time pharmaceuticals comprised ms health care business employed thousand people developed theatrical blood formula based red colorfast microbeads suspended carrier liquid stage blood sold nextel simulated blood used production film dawn dead since discontinued mincom involved first digital audio recordings late see commercial release prototype machine brought sound studios minneapolis introduced digital audio recording system called digital audio mastering system company acquired comtal manufacturer digital image processors launched press peel stores four cities results disappointing year later instead issued free samples directly consumers boise idaho tried indicating would buy product product sold postits rollout introduction began sold across united states april following year launched canada europe th anniversary changed legal name company april september announced agreement acquire meguiars carcare products company familyowned century august acquired cogent systems million october completed acquisition arizant inc december completed acquisition winterthur technology group bonded abrasives company one companies included dow jones industrial average added august fortune list january announced office consumer products division avery dennison bought million transaction canceled september amid antitrust concerns may sold scientific anglers ross reels orvis ross reels acquired march purchased johnson controls international plcs safety gear business scott safety billion net sales year billion billion year reported company would pay million end minnesota water pollution case concerning perfluorochemicals may michael roman appointed ceo board directors international subsidiaries india japan canada december announced entered definitive agreement acquire technology business mmodal total enterprise value billion october purchased acelity kci subsidiaries billion including assumption debt adjustments may divested substantially drug delivery business affiliate altaris capital partners llc approximately million including interest new operating company kindeva drug delivery december announced would merge foodsafety business food testing animal healthcare products maker neogen deal enterprise value billion closed september july company announced would spin healthcare assets form new independent firm likely completing transaction retain ownership stake new publiclytraded health care company gradually divest holdings december company announced stop producing using socalled forever chemicals commonly used items food packaging cellphones nonstick pans firefighting foams clothing etc chemicals well known waterresistant nonstick properties also dangerous pollutants linked serious health problems including ulcerative colitis cancer move comes governments netherlands united states consider actions chemicals produces approximately products four business groups focused safety industrial transportation electronics health care consumer products obtained first patent acquires approximately new patents annually company surpassed patent threshold ms pollution prevention pays program established program initially focused pollution reduction plant level expanded promote recycling reduce waste across divisions early approximately projects decreased companys total global pollutant generation percent saved million eliminating production waste requiring subsequent treatment oakdale dump oakdale minnesota listed epa superfund site significant groundwater soil contamination vocs heavy metals uncovered oakdale dump dumping site utilized reduced releases toxic pollutants percent greenhouse gas emissions percent company earned united states environmental protection agencys energy star award year honor presented us environmental protection agency began investigating perfluorinated chemicals receiving data global distribution toxicity perfluorooctanesulfonic acid pfos materials part broad group perfluoroalkyl polyfluoroalkyl substances often referred pfas different chemical properties former primary producer pfos us announced phaseout pfos perfluorooctanoic acid pfosrelated product production may perfluorinated compounds produced used nonstick cookware stainresistant fabrics products cottage grove facility manufactured pfas response pfas contamination mississippi river surrounding area stated area cleaned combination groundwater pumpout wells soil sediment excavation restoration plan based analysis company property surrounding lands onsite water treatment facility handled plants postproduction water capable removing pfas released nearby mississippi river cleanup cost estimate included granular activated carbon system remove pfas ground water million funded million environmental reserve set aside created renewable energy division within ms industrial transportation business focus energy generation energy management late state minnesota sued billion punitive damages claiming released pfcsclassified toxic chemical epainto local waterways settlement million reached february although along chemours company dupont appeared lawmakers deny responsibility company senior vp corporate affairs denise rutherford arguing chemicals pose human health threats current levels victims ms zwijndrecht belgium factory caused pfos pollution may contaminating agricultural products within kilometer radius plant includes antwerp flemish government paid million euros cleanup costs far contributing euros flemish government issued measures advising consumption example homegrown eggs within radius kilometers reported total coe emissions direct indirect twelve months ending december kt yoy plans reduce emissions base year company also aims achieve carbon neutrality combat arms earplugs version caev developed aearo technologies us military civilian use caev double ended earplug claimed would offer users different levels protection earplugs standard issue members us military acquired aearo technologies may moldexmetric inc competitor filed whistleblower complaint false claims act moldexmetric claimed made false claims us government safety earplugs knew earplugs inherently defective design agreed pay million us government resolve allegations without admitting liability since former users earplugs primarily us military veterans filed suit claiming suffer hearing loss tinnitus damage consequence defective design internal emails showed officials boasted charging per piece earplugs cost cents produce companys official response indicated cost government includes rd costs respirator mask developed approved able filter viral particulates use recommended covid pandemic supply soon became short much companys supply already sold prior outbreak shortages led us government asking stop exporting usmade respirator masks canada latin american countries president donald trump invoked defense production act require prioritize orders federal government dispute resolved agreed import respirators mostly factories china later struck cam deal federal government canada ontario provincial government produce masks plant brockville ontario ms general offices corporate research laboratories division laboratories us st paul minnesota united states operates manufacturing facilities states manufacturing converting facilities countries outside us march completed squarefoot researchanddevelopment building cost million maplewood campus seven hundred scientists various divisions occupy building previously scattered across campus hopes concentrating research development manner improve collaboration received million local tax increment financing relief state sales taxes order assist development building selected factory detail information board chairs included william mcknight bert cross harry heltzer raymond herzog lewis lehr allen jacobson livio desimone james mcnerney george buckley inge thulin thulin continued serve executive chairman current chair michael roman appointed ms ceos included cross heltzer herzog lehr jacobson desimone mcnerney robert morrison interim buckley thulin roman present ms presidents included edgar ober mcknight richard carlton herbert buetow cross heltzer herzog late position separated roles us international operations position overseeing domestic operations first held lehr followed john pitblado jacobson james thwaits led international operations starting buckley thulin president respectively'"
      ]
     },
     "execution_count": 14,
     "metadata": {},
     "output_type": "execute_result"
    }
   ],
   "source": [
    "df.text[0]"
   ]
  },
  {
   "attachments": {},
   "cell_type": "markdown",
   "metadata": {},
   "source": [
    "# save cleaned text"
   ]
  },
  {
   "cell_type": "code",
   "execution_count": 15,
   "metadata": {},
   "outputs": [],
   "source": [
    "df.to_csv(\"sp500_cleaned.csv\", index=False)"
   ]
  }
 ],
 "metadata": {
  "kernelspec": {
   "display_name": "topic",
   "language": "python",
   "name": "python3"
  },
  "language_info": {
   "codemirror_mode": {
    "name": "ipython",
    "version": 3
   },
   "file_extension": ".py",
   "mimetype": "text/x-python",
   "name": "python",
   "nbconvert_exporter": "python",
   "pygments_lexer": "ipython3",
   "version": "3.9.15"
  },
  "orig_nbformat": 4
 },
 "nbformat": 4,
 "nbformat_minor": 2
}
